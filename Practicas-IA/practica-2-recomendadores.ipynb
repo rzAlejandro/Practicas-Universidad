{
 "cells": [
  {
   "cell_type": "markdown",
   "metadata": {},
   "source": [
    "GRUPO 1 : Alejandro Ramírez, Mario Jimenez, David Seijas"
   ]
  },
  {
   "cell_type": "markdown",
   "metadata": {},
   "source": [
    "## Tercera parte.  Recomendacion basada en filtrado colaborativo."
   ]
  },
  {
   "cell_type": "markdown",
   "metadata": {},
   "source": [
    "En esta tercera parte utilizaremos la librería SURPRISE Se puede consultar la documentacion en http://surpriselib.com/\n",
    "\n",
    "Para instalarla: conda install -c conda-forge scikit-surprise o pip install numpy pip install scikit-surprise\n",
    "\n",
    "La librería SurPRISE (Simple Python RecommendatIon System Engine) tiene algoritmos de predición de ratings incluidos: baseline algorithms, neighborhood methods, matrix factorization-based ( SVD, PMF, SVD++, NMF) y otros. También tiene predefinidas las medidas de similitud mas comunes sobre vectores (cosine, MSD, pearson…) Una de las cosas más utiles es que proporciona herramientas para evaluar, analizar y comparar el rendimiento de distitnos algoritmos. Lo que vamos a hacer en esta parte de la práctica es probar varios procedimientos de evaluación cruzada midiendo datos sobre errores entre el valor real (conocido) y la predicción del recomendador. Las siglas corresponden a las siguientes medidas:\n",
    "\n",
    "MAE: Mean Absolute Error\n",
    "RMSE: Root mean square error (RMSE)\n",
    "MSE: mean square error is defined as the expected value of the square of the difference between the estimator and the parameter. -square root of the mean square error.\n",
    "\n",
    "Vamos a ejecutar algunos recomendadores y evaluarlos para poder comentar los resultados.\n"
   ]
  },
  {
   "cell_type": "code",
   "execution_count": 1,
   "metadata": {},
   "outputs": [
    {
     "name": "stdout",
     "output_type": "stream",
     "text": [
      "Collecting package metadata (current_repodata.json): ...working... done\n",
      "Solving environment: ...working... done\n",
      "\n",
      "# All requested packages already installed.\n",
      "\n",
      "\n",
      "Note: you may need to restart the kernel to use updated packages.\n"
     ]
    }
   ],
   "source": [
    " conda install -c conda-forge scikit-surprise "
   ]
  },
  {
   "cell_type": "code",
   "execution_count": 19,
   "metadata": {},
   "outputs": [],
   "source": [
    "from collections import defaultdict\n",
    "import numpy as np\n",
    "\n",
    "from surprise import KNNBasic\n",
    "from surprise import KNNWithMeans\n",
    "from surprise import KNNWithZScore\n",
    "from surprise import KNNBaseline\n",
    "from surprise import SVD\n",
    "from surprise import SVDpp\n",
    "from surprise import NMF\n",
    "\n",
    "from surprise import Dataset\n",
    "from surprise import accuracy\n",
    "from surprise.model_selection import train_test_split"
   ]
  },
  {
   "cell_type": "code",
   "execution_count": 3,
   "metadata": {},
   "outputs": [
    {
     "name": "stdout",
     "output_type": "stream",
     "text": [
      "Evaluating RMSE, MAE of algorithm SVD on 5 split(s).\n",
      "\n",
      "                  Fold 1  Fold 2  Fold 3  Fold 4  Fold 5  Mean    Std     \n",
      "RMSE (testset)    0.9413  0.9339  0.9325  0.9393  0.9409  0.9376  0.0036  \n",
      "MAE (testset)     0.7427  0.7371  0.7348  0.7377  0.7411  0.7387  0.0029  \n",
      "Fit time          4.97    5.01    5.03    5.00    5.02    5.01    0.02    \n",
      "Test time         0.18    0.14    0.18    0.14    0.18    0.16    0.02    \n"
     ]
    },
    {
     "data": {
      "text/plain": [
       "{'test_rmse': array([0.94127105, 0.93393388, 0.93251735, 0.93932072, 0.94086956]),\n",
       " 'test_mae': array([0.7427485 , 0.73712058, 0.73482633, 0.73770209, 0.74111342]),\n",
       " 'fit_time': (4.969994783401489,\n",
       "  5.006847858428955,\n",
       "  5.028186082839966,\n",
       "  5.003286123275757,\n",
       "  5.02266788482666),\n",
       " 'test_time': (0.1753091812133789,\n",
       "  0.14464950561523438,\n",
       "  0.1809232234954834,\n",
       "  0.13762760162353516,\n",
       "  0.17706298828125)}"
      ]
     },
     "execution_count": 3,
     "metadata": {},
     "output_type": "execute_result"
    }
   ],
   "source": [
    "## Ejemplo getting started de la documentación de SURPRISE\n",
    "##http://surpriselib.com/\n",
    "\n",
    "from surprise import SVD\n",
    "from surprise import Dataset\n",
    "from surprise.model_selection import cross_validate\n",
    "\n",
    "# Load the movielens-100k dataset (download it if needed).\n",
    "data = Dataset.load_builtin('ml-100k')\n",
    "\n",
    "# Use the famous SVD algorithm.\n",
    "algo = SVD()\n",
    "\n",
    "# Run 5-fold cross-validation and print results.\n",
    "cross_validate(algo, data, measures=['RMSE', 'MAE'], cv=5, verbose=True)\n",
    "\n"
   ]
  },
  {
   "cell_type": "markdown",
   "metadata": {},
   "source": []
  },
  {
   "cell_type": "code",
   "execution_count": 4,
   "metadata": {},
   "outputs": [],
   "source": [
    "# Evaluacion extracted from surprise: \n",
    "# https://surprise.readthedocs.io/en/stable/FAQ.html#how-to-compute-precision-k-and-recall-k\n",
    "def measures_at_k(predictions, k, th_recom, th_relev):\n",
    "    '''Return precision and recall at k metrics for each user.'''\n",
    "\n",
    "    # First map the predictions to each user.\n",
    "    user_est_true = defaultdict(list)\n",
    "    for uid, _, true_r, est, _ in predictions:\n",
    "        user_est_true[uid].append((est, true_r))\n",
    "\n",
    "    precisions = dict()\n",
    "    recalls = dict()\n",
    "    onehits = dict()\n",
    "    mrr = dict()\n",
    "    \n",
    "    for uid, user_ratings in user_est_true.items():\n",
    "        \n",
    "        # Sort user ratings by estimated value\n",
    "        user_ratings.sort(key=lambda x: x[0], reverse=True)\n",
    "\n",
    "        # Number of relevant items\n",
    "        n_rel = sum((true_r >= th_relev) for (_, true_r) in user_ratings)\n",
    "\n",
    "        # Number of recommended items in top k\n",
    "        n_rec_k = sum((est >= th_recom) for (est, _) in user_ratings[:k])\n",
    "\n",
    "        # Number of relevant and recommended items in top k\n",
    "        n_rel_and_rec_k = sum(((true_r >= th_relev) and (est >= th_recom))\n",
    "                              for (est, true_r) in user_ratings[:k])\n",
    "\n",
    "        # Precision@K: Proportion of recommended items that are relevant\n",
    "        precisions[uid] = n_rel_and_rec_k / n_rec_k if n_rec_k != 0 else 0\n",
    "\n",
    "        # Recall@K: Proportion of relevant items that are recommended\n",
    "        recalls[uid] = n_rel_and_rec_k / n_rel if n_rel != 0 else 0\n",
    "       \n",
    "        \n",
    "    return precisions, recalls\n"
   ]
  },
  {
   "cell_type": "code",
   "execution_count": 5,
   "metadata": {},
   "outputs": [],
   "source": [
    "def f1(precision, recall):\n",
    "    \"\"\"\n",
    "        Funcion que calcula el f1 (media armónica) en funcion de precision y recall\n",
    "    \"\"\"\n",
    "    denominador = precision + recall\n",
    "    \n",
    "    if denominador == 0:\n",
    "        return 0\n",
    "    else:\n",
    "        return (2 * precision * recall) / denominador"
   ]
  },
  {
   "cell_type": "code",
   "execution_count": 6,
   "metadata": {},
   "outputs": [],
   "source": [
    "def get_results(recommendations, k, knn):\n",
    "    \"\"\"\n",
    "        Function to get the measures results \n",
    "    \"\"\"\n",
    "    # threshold = 4 --> solo se tienen en cuenta peliculas que hayan \n",
    "    # sido puntuadas con 4 o 5 estrellas\n",
    "    precisions, recalls  = measures_at_k(recommendations, k, th_recom=4, th_relev=1)\n",
    "    \n",
    "    # Measures can then be averaged over all users\n",
    "    precision_result = sum(prec for prec in precisions.values()) / len(precisions)\n",
    "    recall_result = sum(rec for rec in recalls.values()) / len(recalls)\n",
    "    # Media armónica  \n",
    "    f1_result = f1(precision_result, recall_result)\n",
    "    # En este archivo se volcarán los resultados de las métricas. Tiene que existir. \n",
    "    f = open(\"C:/Users/aleja/Google Drive/4o/INFORMATICA/INTELIGENCIA ARTIFICIAL/PRACTICAS/PR2/results_user_cf.csv\", 'a')\n",
    "    #f = open(\"C:/hlocal/results_user_cf.csv\", 'a')\n",
    "    f.write(str(k) + ',' + knn + \",\" + str(precision_result) + ',' + str(recall_result) + ',' +  str(f1_result) +  '\\n') \n",
    "    f.close()\n",
    "    "
   ]
  },
  {
   "cell_type": "code",
   "execution_count": 7,
   "metadata": {},
   "outputs": [],
   "source": [
    "# Hemos cargado antes los datos de movieLens para 100K\n",
    "# data = Dataset.load_builtin('ml-100k')"
   ]
  },
  {
   "cell_type": "code",
   "execution_count": 8,
   "metadata": {},
   "outputs": [],
   "source": [
    "# creo dos conjuntos de datos, el training set y el evaluation set\n",
    "# cada uno contendra la mitad de los datos\n",
    "training_set, evaluation_set = train_test_split(data, test_size=.5)"
   ]
  },
  {
   "cell_type": "code",
   "execution_count": 9,
   "metadata": {},
   "outputs": [],
   "source": [
    "# Ahora determino cual es el algoritmo que voy a usar de recomendacion\n",
    "# en este caso voy a usar el algoritmo KNN para encontrar las similitudes entre items\n",
    "recommendation_algorithm = KNNBasic(k=100, sim_options={'name': 'pearson_baseline', 'user_based': True})\n",
    "#print(recommendation_algorithm)"
   ]
  },
  {
   "cell_type": "code",
   "execution_count": 10,
   "metadata": {},
   "outputs": [
    {
     "name": "stdout",
     "output_type": "stream",
     "text": [
      "Estimating biases using als...\n",
      "Computing the pearson_baseline similarity matrix...\n",
      "Done computing similarity matrix.\n"
     ]
    },
    {
     "data": {
      "text/plain": [
       "<surprise.prediction_algorithms.knns.KNNBasic at 0x1df9505b9a0>"
      ]
     },
     "execution_count": 10,
     "metadata": {},
     "output_type": "execute_result"
    }
   ],
   "source": [
    "# aplico el algoritmo sobre el training_set\n",
    "recommendation_algorithm.fit(training_set)\n",
    "#print(recommendation_algorithm)"
   ]
  },
  {
   "cell_type": "code",
   "execution_count": 11,
   "metadata": {},
   "outputs": [],
   "source": [
    "# aplico el algoritmo sobre el evaluation set y obtengo las predicciones en las recomendaciones\n",
    "recommendations = recommendation_algorithm.test(evaluation_set)\n",
    "#print(recommendations)"
   ]
  },
  {
   "cell_type": "code",
   "execution_count": 13,
   "metadata": {},
   "outputs": [],
   "source": [
    "K = 10\n",
    "for k in range(K):\n",
    "    get_results(recommendations, k+1, \"knn_basic\")"
   ]
  },
  {
   "cell_type": "code",
   "execution_count": 14,
   "metadata": {},
   "outputs": [
    {
     "name": "stdout",
     "output_type": "stream",
     "text": [
      "Estimating biases using als...\n",
      "Computing the pearson_baseline similarity matrix...\n",
      "Done computing similarity matrix.\n"
     ]
    }
   ],
   "source": [
    "##########################################################\n",
    "# Hacer distintas pruebas con el resto de tipos KNN\n",
    "recommendation_algorithm = KNNWithMeans(k=100, sim_options={'name': 'pearson_baseline', 'user_based': True})\n",
    "\n",
    "# aplico el algoritmo sobre el training_set\n",
    "recommendation_algorithm.fit(training_set)\n",
    "\n",
    "# aplico el algoritmo sobre el evaluation set y obtengo las predicciones en las recomendaciones\n",
    "recommendations = recommendation_algorithm.test(evaluation_set)\n",
    "\n",
    "K = 10\n",
    "for k in range(K):\n",
    "    get_results(recommendations, k+1, \"knn_withmeans\")"
   ]
  },
  {
   "cell_type": "code",
   "execution_count": 15,
   "metadata": {},
   "outputs": [
    {
     "name": "stdout",
     "output_type": "stream",
     "text": [
      "Estimating biases using als...\n",
      "Computing the pearson_baseline similarity matrix...\n",
      "Done computing similarity matrix.\n"
     ]
    }
   ],
   "source": [
    "##########################################################\n",
    "# Hago lo mismo con el resto de tipos KNN\n",
    "recommendation_algorithm = KNNWithZScore(k=100, sim_options={'name': 'pearson_baseline', 'user_based': True})\n",
    "\n",
    "# aplico el algoritmo sobre el training_set\n",
    "recommendation_algorithm.fit(training_set)\n",
    "\n",
    "# aplico el algoritmo sobre el evaluation set y obtengo las predicciones en las recomendaciones\n",
    "recommendations = recommendation_algorithm.test(evaluation_set)\n",
    "\n",
    "K = 10\n",
    "for k in range(K):\n",
    "    get_results(recommendations, k+1, \"knn_withzscore\")"
   ]
  },
  {
   "cell_type": "code",
   "execution_count": 16,
   "metadata": {},
   "outputs": [
    {
     "name": "stdout",
     "output_type": "stream",
     "text": [
      "Estimating biases using als...\n",
      "Computing the pearson_baseline similarity matrix...\n",
      "Done computing similarity matrix.\n"
     ]
    }
   ],
   "source": [
    "##########################################################\n",
    "# Hago lo mismo con el resto de tipos KNN\n",
    "recommendation_algorithm = KNNBaseline(k=100, sim_options={'name': 'pearson_baseline', 'user_based': True})\n",
    "\n",
    "# aplico el algoritmo sobre el training_set\n",
    "recommendation_algorithm.fit(training_set)\n",
    "\n",
    "# aplico el algoritmo sobre el evaluation set y obtengo las predicciones en las recomendaciones\n",
    "recommendations = recommendation_algorithm.test(evaluation_set)\n",
    "\n",
    "K = 10\n",
    "for k in range(K):\n",
    "    get_results(recommendations, k+1, \"knn_baseline\")"
   ]
  },
  {
   "cell_type": "code",
   "execution_count": 18,
   "metadata": {},
   "outputs": [],
   "source": [
    "# Hago lo mismo con el resto de tipos SVD\n",
    "recommendation_algorithm = SVD()\n",
    "\n",
    "# aplico el algoritmo sobre el training_set\n",
    "recommendation_algorithm.fit(training_set)\n",
    "\n",
    "# aplico el algoritmo sobre el evaluation set y obtengo las predicciones en las recomendaciones\n",
    "recommendations = recommendation_algorithm.test(evaluation_set)\n",
    "\n",
    "K = 10\n",
    "for k in range(K):\n",
    "    get_results(recommendations, k+1, \"SVD\")"
   ]
  },
  {
   "cell_type": "code",
   "execution_count": null,
   "metadata": {},
   "outputs": [],
   "source": [
    "# Hago lo mismo con el resto de tipos SVDpp\n",
    "recommendation_algorithm = SVDpp()\n",
    "\n",
    "# aplico el algoritmo sobre el training_set\n",
    "recommendation_algorithm.fit(training_set)\n",
    "\n",
    "# aplico el algoritmo sobre el evaluation set y obtengo las predicciones en las recomendaciones\n",
    "recommendations = recommendation_algorithm.test(evaluation_set)\n",
    "\n",
    "K = 10\n",
    "for k in range(K):\n",
    "    get_results(recommendations, k+1, \"SVDpp\")"
   ]
  },
  {
   "cell_type": "code",
   "execution_count": 21,
   "metadata": {},
   "outputs": [],
   "source": [
    "# Hago lo mismo con el resto de tipos NMF\n",
    "recommendation_algorithm = NMF()\n",
    "\n",
    "# aplico el algoritmo sobre el training_set\n",
    "recommendation_algorithm.fit(training_set)\n",
    "\n",
    "# aplico el algoritmo sobre el evaluation set y obtengo las predicciones en las recomendaciones\n",
    "recommendations = recommendation_algorithm.test(evaluation_set)\n",
    "\n",
    "K = 10\n",
    "for k in range(K):\n",
    "    get_results(recommendations, k+1, \"NMF\")"
   ]
  },
  {
   "cell_type": "code",
   "execution_count": 23,
   "metadata": {},
   "outputs": [],
   "source": [
    "# Hago lo mismo con el resto de tipos SVD\n",
    "recommendation_algorithm = SVD(n_factors=150,n_epochs=25)\n",
    "\n",
    "# aplico el algoritmo sobre el training_set\n",
    "recommendation_algorithm.fit(training_set)\n",
    "\n",
    "# aplico el algoritmo sobre el evaluation set y obtengo las predicciones en las recomendaciones\n",
    "recommendations = recommendation_algorithm.test(evaluation_set)\n",
    "\n",
    "K = 10\n",
    "for k in range(K):\n",
    "    get_results(recommendations, k+1, \"SVD\")"
   ]
  },
  {
   "cell_type": "code",
   "execution_count": 24,
   "metadata": {},
   "outputs": [],
   "source": [
    "# Hago lo mismo con el resto de tipos SVDpp\n",
    "recommendation_algorithm = SVDpp(n_factors=70,n_epochs=25)\n",
    "\n",
    "# aplico el algoritmo sobre el training_set\n",
    "recommendation_algorithm.fit(training_set)\n",
    "\n",
    "# aplico el algoritmo sobre el evaluation set y obtengo las predicciones en las recomendaciones\n",
    "recommendations = recommendation_algorithm.test(evaluation_set)\n",
    "\n",
    "K = 10\n",
    "for k in range(K):\n",
    "    get_results(recommendations, k+1, \"SVDpp\")"
   ]
  },
  {
   "cell_type": "code",
   "execution_count": 25,
   "metadata": {},
   "outputs": [],
   "source": [
    "# Hago lo mismo con el resto de tipos NMF\n",
    "recommendation_algorithm = NMF(n_factors=30,n_epochs=80)\n",
    "\n",
    "# aplico el algoritmo sobre el training_set\n",
    "recommendation_algorithm.fit(training_set)\n",
    "\n",
    "# aplico el algoritmo sobre el evaluation set y obtengo las predicciones en las recomendaciones\n",
    "recommendations = recommendation_algorithm.test(evaluation_set)\n",
    "\n",
    "K = 10\n",
    "for k in range(K):\n",
    "    get_results(recommendations, k+1, \"NMF\")"
   ]
  },
  {
   "cell_type": "markdown",
   "metadata": {},
   "source": [
    "## Ejercicio:  se pide ejecutar, comprender y escribir comentarios razonados sobre la evaluación de distintos recomendadores.\n",
    "    \n",
    "Prueba otros algoritmos de predicción de ratings basados en la estimación de los vecinos más próximos y realiza evaluaciones de su comportamiento. Comenta los resultados.¶\n",
    "Puedes consultar la documentación en https://surprise.readthedocs.io/en/stable/knn_inspired.html#"
   ]
  },
  {
   "cell_type": "code",
   "execution_count": null,
   "metadata": {},
   "outputs": [],
   "source": [
    "1\tknn_basic\t0.938494168\t0.035488692\t0.068391205\n",
    "2\tknn_basic\t0.938494168\t0.065003351\t0.121585285\n",
    "3\tknn_basic\t0.938494168\t0.088511622\t0.161766645\n",
    "4\tknn_basic\t0.938494168\t0.107057289\t0.192190715\n",
    "5\tknn_basic\t0.938494168\t0.122343821\t0.216468422\n",
    "6\tknn_basic\t0.938494168\t0.135060745\t0.23613831\n",
    "7\tknn_basic\t0.938494168\t0.146200698\t0.252990047\n",
    "8\tknn_basic\t0.938494168\t0.156314649\t0.267992701\n",
    "9\tknn_basic\t0.938494168\t0.16478449\t0.280344919\n",
    "10\tknn_basic\t0.938494168\t0.172270338\t0.291105283\n",
    "\n",
    "1\tknn_withmeans\t0.841993637\t0.03131557\t0.060385281\n",
    "2\tknn_withmeans\t0.841993637\t0.058728259\t0.109798198\n",
    "3\tknn_withmeans\t0.841993637\t0.082859955\t0.150872647\n",
    "4\tknn_withmeans\t0.841993637\t0.10445499\t0.185853588\n",
    "5\tknn_withmeans\t0.841993637\t0.124500626\t0.216925727\n",
    "6\tknn_withmeans\t0.841993637\t0.142217141\t0.243333908\n",
    "7\tknn_withmeans\t0.841993637\t0.158381446\t0.266612337\n",
    "8\tknn_withmeans\t0.841993637\t0.172790729\t0.286738146\n",
    "9\tknn_withmeans\t0.841993637\t0.186156133\t0.304901648\n",
    "10\tknn_withmeans\t0.841993637\t0.198039917\t0.320659558\n",
    "\n",
    "1\tknn_withzscore\t0.838812301\t0.031390448\t0.060516227\n",
    "2\tknn_withzscore\t0.838812301\t0.058542445\t0.1094464\n",
    "3\tknn_withzscore\t0.838812301\t0.082500829\t0.150226254\n",
    "4\tknn_withzscore\t0.838812301\t0.103906064\t0.184907154\n",
    "5\tknn_withzscore\t0.838812301\t0.123300661\t0.214997855\n",
    "6\tknn_withzscore\t0.838812301\t0.140962616\t0.241363958\n",
    "7\tknn_withzscore\t0.838812301\t0.157187463\t0.26476066\n",
    "8\tknn_withzscore\t0.838812301\t0.171581381\t0.284888109\n",
    "9\tknn_withzscore\t0.838812301\t0.184848113\t0.302938101\n",
    "10\tknn_withzscore\t0.838812301\t0.196722012\t0.318700871\n",
    "\n",
    "1\tknn_baseline\t0.920466596\t0.035532665\t0.068423968\n",
    "2\tknn_baseline\t0.920466596\t0.066264244\t0.123628492\n",
    "3\tknn_baseline\t0.920466596\t0.092088451\t0.167426637\n",
    "4\tknn_baseline\t0.920466596\t0.113949378\t0.202793844\n",
    "5\tknn_baseline\t0.920466596\t0.132426986\t0.231542141\n",
    "6\tknn_baseline\t0.920466596\t0.148135388\t0.255200119\n",
    "7\tknn_baseline\t0.920466596\t0.161645886\t0.27499847\n",
    "8\tknn_baseline\t0.920466596\t0.173108905\t0.291412828\n",
    "9\tknn_baseline\t0.920466596\t0.183144676\t0.305503505\n",
    "10\tknn_baseline\t0.920466596\t0.191877453\t0.317557838\n",
    "\n",
    "1\tSVD\t0.845174973\t0.032078857\t0.061811635\n",
    "2\tSVD\t0.845174973\t0.059178517\t0.11061206\n",
    "3\tSVD\t0.845174973\t0.082220658\t0.149862346\n",
    "4\tSVD\t0.845174973\t0.101507907\t0.181247479\n",
    "5\tSVD\t0.845174973\t0.117657113\t0.206559065\n",
    "6\tSVD\t0.845174973\t0.131509994\t0.227604518\n",
    "7\tSVD\t0.845174973\t0.14355849\t0.245429223\n",
    "8\tSVD\t0.845174973\t0.153952098\t0.260460284\n",
    "9\tSVD\t0.845174973\t0.163165484\t0.273525439\n",
    "10\tSVD\t0.845174973\t0.171592168\t0.285267688\n",
    "\n",
    "1\tSVDpp\t0.830328738\t0.030385677\t0.058625952\n",
    "2\tSVDpp\t0.830328738\t0.056425262\t0.105669704\n",
    "3\tSVDpp\t0.830328738\t0.078877385\t0.144068893\n",
    "4\tSVDpp\t0.830328738\t0.09781882\t0.175019105\n",
    "5\tSVDpp\t0.830328738\t0.114602011\t0.201405962\n",
    "6\tSVDpp\t0.830328738\t0.129049195\t0.223380697\n",
    "7\tSVDpp\t0.830328738\t0.141737722\t0.242141682\n",
    "8\tSVDpp\t0.830328738\t0.15257355\t0.257779852\n",
    "9\tSVDpp\t0.830328738\t0.162084304\t0.271224279\n",
    "10\tSVDpp\t0.830328738\t0.170781283\t0.283294751\n",
    "\n",
    "1\tNMF\t0.87592789\t0.03344002\t0.064420673\n",
    "2\tNMF\t0.87592789\t0.06226824\t0.116270972\n",
    "3\tNMF\t0.87592789\t0.086879025\t0.158078966\n",
    "4\tNMF\t0.87592789\t0.107786222\t0.191952025\n",
    "5\tNMF\t0.87592789\t0.125490539\t0.219529938\n",
    "6\tNMF\t0.87592789\t0.141071965\t0.243006659\n",
    "7\tNMF\t0.87592789\t0.154261959\t0.262325148\n",
    "8\tNMF\t0.87592789\t0.165492323\t0.278387801\n",
    "9\tNMF\t0.87592789\t0.175884919\t0.292946625\n",
    "10\tNMF\t0.87592789\t0.184435588\t0.304711127\n",
    "\n",
    "1\tSVD\t0.874867444\t0.033049519\t0.063692936\n",
    "2\tSVD\t0.874867444\t0.060669132\t0.113469532\n",
    "3\tSVD\t0.874867444\t0.083544649\t0.152524147\n",
    "4\tSVD\t0.874867444\t0.102893707\t0.184131583\n",
    "5\tSVD\t0.874867444\t0.119705392\t0.210595637\n",
    "6\tSVD\t0.874867444\t0.134199562\t0.23270373\n",
    "7\tSVD\t0.874867444\t0.146558865\t0.251059872\n",
    "8\tSVD\t0.874867444\t0.15705159\t0.26629865\n",
    "9\tSVD\t0.874867444\t0.166209891\t0.279348359\n",
    "10\tSVD\t0.874867444\t0.174293584\t0.290677557\n",
    "\n",
    "1\tSVDpp\t0.870625663\t0.031560944\t0.060913713\n",
    "2\tSVDpp\t0.870625663\t0.058537445\t0.109699151\n",
    "3\tSVDpp\t0.870625663\t0.082330431\t0.150435022\n",
    "4\tSVDpp\t0.870625663\t0.103054673\t0.184294659\n",
    "5\tSVDpp\t0.870625663\t0.120330535\t0.211437906\n",
    "6\tSVDpp\t0.870625663\t0.135715213\t0.234825296\n",
    "7\tSVDpp\t0.870625663\t0.148738443\t0.25407115\n",
    "8\tSVDpp\t0.870625663\t0.160616094\t0.271200216\n",
    "9\tSVDpp\t0.870625663\t0.170830155\t0.285617717\n",
    "10\tSVDpp\t0.870625663\t0.180038352\t0.298375137\n",
    "\n",
    "1\tNMF\t0.871686108\t0.032141544\t0.061997079\n",
    "2\tNMF\t0.871686108\t0.059442974\t0.111296309\n",
    "3\tNMF\t0.871686108\t0.08290898\t0.151416254\n",
    "4\tNMF\t0.871686108\t0.103085986\t0.184368475\n",
    "5\tNMF\t0.871686108\t0.120883202\t0.212322115\n",
    "6\tNMF\t0.871686108\t0.13605778\t0.235376624\n",
    "7\tNMF\t0.871686108\t0.149171333\t0.254747771\n",
    "8\tNMF\t0.871686108\t0.160305755\t0.270808918\n",
    "9\tNMF\t0.871686108\t0.169986117\t0.284493593\n",
    "10\tNMF\t0.871686108\t0.178294992\t0.29603822\n"
   ]
  },
  {
   "cell_type": "markdown",
   "metadata": {},
   "source": [
    "### OBSERVACIONES\n",
    "\n",
    "Lo óptimo sería alcanzar el máximo valor posible, 1, de precisión (1ª columna) y de recall (2ª columna). Sin embargo, por lo general si una aumenta la otra disminuye. Por lo tanto, se busca maximizar la tercera columna, operación que pondera ambas. \n",
    "A mayor k en las pruebas, se escogen más recomendados, lo que implica que la intersección entre recomendados y relevantes aumenta. Por lo tanto, el recall crece a medida que se aumenta la k.\n",
    "\n",
    "1. KNN_basic y KNN_baseline son los que presentan una mayor precisión, lo que se refleja en un menor recall respecto a los otros dos.\n",
    "\n",
    "2. A k´s menores, KNN_basic y KNN_baseline tienen un mayor \"f1\", puesto que la diferencia de recall´s con el resto es mínima. Sin embargo, según aumenta el k, las diferencias entre los recall´s también crecen, y pasan a ser los que peor \"f1\" tienen \n",
    "\n",
    "3. KNN_baseline es el que mayor \"f1\" tiene (ligeramente), en general. Por ello, se puede concluir que a pesar de ser bastantes parejos los 4, este es el mejor.\n",
    "\n",
    "4. KNN_basic a k´s más elevados es el que ofrece un peor rendimiento.\n",
    "\n",
    "5. Hemos probado otros 3 recomendadores basados en factorización de matrices. Con los parámetros por defecto se obtienen peores resultados. Sin embargo, modificando dichos valores es posible alcanzar mejores ponderaciones, sin sobrepasar a los 4 primeros.\n"
   ]
  }
 ],
 "metadata": {
  "kernelspec": {
   "display_name": "Python 3",
   "language": "python",
   "name": "python3"
  },
  "language_info": {
   "codemirror_mode": {
    "name": "ipython",
    "version": 3
   },
   "file_extension": ".py",
   "mimetype": "text/x-python",
   "name": "python",
   "nbconvert_exporter": "python",
   "pygments_lexer": "ipython3",
   "version": "3.8.3"
  }
 },
 "nbformat": 4,
 "nbformat_minor": 2
}

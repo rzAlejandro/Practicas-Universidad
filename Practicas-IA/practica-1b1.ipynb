{
 "cells": [
  {
   "cell_type": "markdown",
   "metadata": {},
   "source": [
    "MARIO JIMÉNEZ, ALEJANDRO RAMÍREZ Y DAVID SEIJAS"
   ]
  },
  {
   "cell_type": "markdown",
   "metadata": {},
   "source": [
    "# ENUNCIADO\n",
    "\n",
    "Un grupo de 5 personas quiere cruzar un viejo y estrecho puente. Es una noche\n",
    "cerrada y se necesita llevar una linterna para cruzar. El grupo solo dispone de\n",
    "una linterna, a la que le quedan 5 minutos de batería.\n",
    "    1. Cada persona tarda en cruzar 10, 30, 60, 80 y 120 segundos,\n",
    "        respectivamente.\n",
    "    2. El puente solo resiste un máximo de 2 personas cruzando a la vez, y\n",
    "        cuando cruzan dos personas juntas, caminan a la velocidad del más lento.\n",
    "    3. No se puede lanzar la linterna de un extremo a otro del puente, así que\n",
    "        cada vez que crucen dos personas, alguien tiene que volver a cruzar hacia\n",
    "        atrás con la linterna a buscar a los compañeros que falten, y así hasta que\n",
    "        hayan cruzado todos."
   ]
  },
  {
   "cell_type": "markdown",
   "metadata": {},
   "source": [
    "# RESOLUCION"
   ]
  },
  {
   "cell_type": "markdown",
   "metadata": {},
   "source": [
    "La entrada consiste en el número de personas, así como sus respectivos tiempos de cruce y la duración de la linterna.\n",
    "El estado va a ser un array de tamaño k=\"personas\" + 2;\n",
    "    1. Las primeras \"personas\" posiciones se corresponden a la orilla en la que se encuentra la persona (0 es que se encuentra en la orilla inicio y 1 en la orilla final).\n",
    "    2. La siguiente posición (state[personas]) es la orilla en la que está la linterna.\n",
    "    3. La última posición se corresponde que el tiempo que le queda a la linterna para que se apague. Obviamente la solución será válida si han cruzado todos y dicho tiempo es >= 0"
   ]
  },
  {
   "cell_type": "markdown",
   "metadata": {},
   "source": [
    "# REPRESENTACIÓN DE ESTADOS\n",
    "\n",
    "Llevamos en el estado una tupla (P1, P2,..., Pn, L, t) donde\n",
    "- Pi es 0 si la persona i está en la orilla origen o 1 si está en la orilla destino (i entre 1 y n)\n",
    "- n el número de personas (variable dependiendo del problema)\n",
    "- L 0 o 1 dependiendo de la orilla en la que esté la linterna\n",
    "- t el tiempo que resta a la linterna con t < tLimite (se pasará por parámetro, igual que n, al crear el problema)\n",
    "\n",
    "---\n",
    "\n",
    "### Estado inicial\n",
    "(0, 0, 0, 0, 0, 0, 300) suponiendo nuestro problema con 5 personas y tiempoLimite 300\n",
    "\n",
    "### Estado objetivo \n",
    "(1, 1, 1, 1, 1, 1, t) con t en [0,300]\n",
    "\n",
    "---\n",
    "\n",
    "#### Estados posibles\n",
    "2^(n+1)\n",
    "\n",
    "#### Estados inalcanzables \n",
    "(0, 0, 0, 0, 0, 1, t)\n",
    "(1, 1, 1, 1, 1, 0, t)\n",
    "con t entre 0 y tLimite=300\n",
    "\n",
    "#### Restricciones estados no válido (estados de peligro):\n",
    "t < 0.\n",
    "Todos los estados alcanzables son válidos pues no hay ningún peligro en el problema, solo pondremos que el tiempo tiene que ser < 0, es decir, la linterna todavía tiene batería\n",
    "\n",
    "---\n",
    "\n",
    "### Especificación operadores\n",
    "cruzaij(i,j)\n",
    "donde cruzarán a la otra orilla las personas i y j, o la persona i sola si j = 0 (en el código jugamos con los índices de los estados pues la persona 1 en la lista del estado estaría en la posición 0)\n",
    "\n",
    "PRECONDICIONES:\n",
    "(L=0 and Pi = 0 and *Pj = 0*) or (L=1 and Pi = 1 and *Pj = 1*) \n",
    "\n",
    "POSTCONDICIONES: \n",
    "\n",
    "- (P1,...,Pi,...,Pj,..., L, t) -> (P1,...,Pi + 1,...,Pj *+ 1*,..., L + 1, t)\n",
    "- (P1,...,Pi,...,Pj,..., L, t) -> (P1,...,Pi - 1,...,Pj *- 1*,..., L - 1, t)\n",
    "- Estado no peligroso (t' >= 0)\n",
    "\n",
    "*Lo que está en cursiva ocurre solo si j !=0, si no se omite"
   ]
  },
  {
   "cell_type": "markdown",
   "metadata": {},
   "source": [
    "### Coste de la solución\n",
    "EL coste será el número de operadores aplicados si utilizamos como heurística el número de viajes que nos quedan para llegar todos a la orilla destino y lleguemos al estado objetivo. Si utilizamos heurísticas en las que influye el tiempo cambiamos el coste al implementado en la clase del problema de este archivo que será el tiempo que llevamos con los viajes realizados hasta el momento"
   ]
  },
  {
   "cell_type": "code",
   "execution_count": 2,
   "metadata": {},
   "outputs": [
    {
     "name": "stdout",
     "output_type": "stream",
     "text": [
      "C:\\Users\\david\\Desktop\\Trabajos\\4º\\IA\\Prácticas\\PR1\n"
     ]
    }
   ],
   "source": [
    " cd .."
   ]
  },
  {
   "cell_type": "code",
   "execution_count": 3,
   "metadata": {},
   "outputs": [
    {
     "name": "stdout",
     "output_type": "stream",
     "text": [
      "C:\\Users\\david\\Desktop\\Trabajos\\4º\\IA\\Prácticas\n"
     ]
    }
   ],
   "source": [
    "cd ..\n"
   ]
  },
  {
   "cell_type": "code",
   "execution_count": 4,
   "metadata": {},
   "outputs": [
    {
     "name": "stdout",
     "output_type": "stream",
     "text": [
      "C:\\Users\\david\\Desktop\\Trabajos\\4º\\IA\\Prácticas\\aima-python\n"
     ]
    }
   ],
   "source": [
    "cd aima-python\n"
   ]
  },
  {
   "cell_type": "code",
   "execution_count": 5,
   "metadata": {},
   "outputs": [],
   "source": [
    "from search import *\n",
    "from search import breadth_first_tree_search, depth_first_tree_search, depth_first_graph_search, breadth_first_graph_search"
   ]
  },
  {
   "cell_type": "code",
   "execution_count": 6,
   "metadata": {},
   "outputs": [],
   "source": [
    "import math\n",
    "\n",
    "class Problema1 (Problem):\n",
    "    \n",
    "    \n",
    "    def __init__(self, personas, tiempos, tLimite, goal=None):\n",
    "        self.tiempos = tiempos\n",
    "        self.personas = personas\n",
    "        \n",
    "        initial = [0 for n in range (0,personas+1)]\n",
    "        initial.append(tLimite)\n",
    "        self.initial = tuple(initial)\n",
    "        \n",
    "        goal=[1 for n in range (0,personas+1)]\n",
    "        goal.append(0)\n",
    "        self.goal = tuple(goal)\n",
    "        \n",
    "        self._actions = [(\"Cruza la persona %d\"%i,(i,0)) for i in range (1,personas + 1)]\n",
    "        self._actions += [(\"Cruzan las personas %d y %d\"%(i,j),(i,j)) for i in range (1,personas + 1) for j in range (i+1,personas + 1)]\n",
    "        \n",
    "        \n",
    "    def actions(self, s):\n",
    "        valido = True\n",
    "        lista = []\n",
    "        \n",
    "        for a in self._actions:\n",
    "            if a[1][1] == 0: #Un 0 en la segunda poscion de la tupla que indica que dos personas cruzan significa que sólo cruza una\n",
    "                valido = s[a[1][0] - 1] == s[self.personas]#para comprobar que el que se mueve esta en la misma orilla que la linterna\n",
    "                valido = valido and (s[self.personas + 1] - self.tiempos[a[1][0] - 1])>=0 #para comprobar que todavia tenemos tiempo para que puedan cruzar la personas\n",
    "            else:\n",
    "                valido = s[a[1][0] - 1] == s[a[1][1] - 1] == s[self.personas]\n",
    "                valido = valido and (s[self.personas + 1] - max(self.tiempos[a[1][0] - 1],self.tiempos[a[1][1] - 1]))>=0\n",
    "                \n",
    "            if valido:\n",
    "                lista.append(a)\n",
    "                \n",
    "        return lista\n",
    "    '''\n",
    "    Cada vez que se mete en is valid modifica el estado actual, por lo que las comprobaciones despues de la primera vez son erroneas\n",
    "     def _is_valid(self, s):\n",
    "        valido = True\n",
    "        for i in range (0, self.personas + 1):\n",
    "            if not(0 <= s[i] <= 1):\n",
    "                valido = False\n",
    "                \n",
    "        if s[self.personas + 1]<0:\n",
    "            valido = False\n",
    "        \n",
    "        return valido\n",
    "    \n",
    "    '''\n",
    "   \n",
    "    \n",
    "    def result(self, s, a):\n",
    "        l = list(s)\n",
    "        maximo = self.tiempos[a[1][0]-1]\n",
    "        if l[self.personas] == 0:\n",
    "            l[a[1][0] - 1] += 1 #actualiza el que se mueve\n",
    "            l[self.personas] += 1 #actualiza la linterna\n",
    "            \n",
    "            if a[1][1] != 0:\n",
    "                maximo = max(maximo,self.tiempos[a[1][1]-1])\n",
    "                l[a[1][1] - 1] += 1\n",
    "            \n",
    "        else:\n",
    "            l[self.personas] -= 1\n",
    "            l[a[1][0] - 1] -= 1\n",
    "            \n",
    "            if a[1][1] != 0:\n",
    "                maximo = max(maximo,self.tiempos[a[1][1]-1])\n",
    "                l[a[1][1] - 1] -= 1\n",
    "        \n",
    "        l[self.personas + 1] -= maximo #actualiza el tiempo\n",
    "                \n",
    "        return tuple(l)\n",
    "    \n",
    "    def goal_test(self, state):\n",
    "        i = 0\n",
    "        while i < self.personas+1:\n",
    "            if state[i] != self.goal[i]:\n",
    "                return False\n",
    "            i += 1\n",
    "            \n",
    "        return state[i]>=0\n",
    "    \n",
    "    \n",
    "    def path_cost(self, c, state1, action, state2):   #Para las heurísticas en las que miramos el tiempo\n",
    "        cost = self.tiempos[action[1][0] - 1]\n",
    "        if action[1][1] != 0:\n",
    "            cost = max(self.tiempos[action[1][1] - 1], cost)\n",
    "    \n",
    "        return c + cost\n",
    "    \n",
    "\n",
    "    #HEURÍSTICAS\n",
    "   \n",
    "    \n",
    "    \n",
    "        \n",
    "    def h(self, node):                  #hTiempoMin\n",
    "        state = node.state\n",
    "        viajes = 0\n",
    "        minTiempo = self.tiempos[0]\n",
    "            \n",
    "        for i in range (0,self.personas):\n",
    "            if state[i] == 0:\n",
    "                viajes += 1\n",
    "                \n",
    "        if viajes != 0:\n",
    "            viajes += state[self.personas] #si la linterna esta en el destino, tiene que cruzar alguien con ella y entonces habrá una persona más en el origen que tenga que cruzar\n",
    "            \n",
    "        if viajes >= 2:\n",
    "            viajes = (viajes-2)*2 + 1 + state[self.personas] #todas las personas menos los dos ultimos hacen dos viajes para que \n",
    "        \n",
    "\n",
    "        \n",
    "        for i in range (1, self.personas):\n",
    "            minTiempo = min(minTiempo, self.tiempos[i])\n",
    "            \n",
    "        return viajes*minTiempo\n",
    "                         \n",
    "           \n",
    "    def hViajes(self, node):                     #hViajes\n",
    "        state = node.state\n",
    "        num = 0\n",
    "        for i in range (0,self.personas):\n",
    "            if state[i] == 0:\n",
    "                num += 1\n",
    "                \n",
    "        if num != 0:\n",
    "            num += state[self.personas] #si la linterna esta en el destino, tiene que cruzar alguien con ella y entonces habrá una persona más en el origen que tenga que cruzar\n",
    "            \n",
    "        if num < 2:\n",
    "            return num\n",
    "        else:\n",
    "            return (num-2)*2 + 1 + state[self.personas] #todas las personas menos los dos ultimos hacen dos viajes para que cruce uno solo y los dos últimos vuelven en un vijae. Además si la linterna empezaba en la orilla destino tiene que ir a la orilla origen en un viaje     \n",
    "    \n",
    "    \n",
    "    def hInfLinternas(self, node):               #hInfLinternas\n",
    "        state = node.state\n",
    "        tiempo = 0\n",
    "        \n",
    "        for i in range (0,self.personas):\n",
    "            if state[i] == 0:\n",
    "                tiempo += self.tiempos[i]\n",
    "        \n",
    "        return tiempo/2\n",
    "                  "
   ]
  },
  {
   "cell_type": "markdown",
   "metadata": {},
   "source": [
    "### EXPLICACIÓN HERÍSTICAS\n",
    "Definimos tres heurísticas:\n",
    "- hViajes: cálcula la cantidad de viajes mínimo que tenemos que hacer para llegar al estado objetivo según las personas que nos quedan en el lado origen. Cuando utilicemos esta el coste de cada operdor será uno (habría que comentar la función coste sobrescrita en la clase de arriba)\n",
    "- hTiempo: cálcula el tiempo mínimos que queda para llegar al estado objetivo según el número de personas que quedan por cruzar. Coge el número de viajes mínimo que habría que hacer y lo multiplica por el tiempo de la persona que menos tarda en cruzar. Aquí el coste de los operadores sería el tiempo que tarda en cruzar el puente en cada viaje\n",
    "- hInfLinternas: es la menos informada de todas. Suponemos que tenemos infinitas linternas y que hay que hacer viajes solo del lado origen al lado destino"
   ]
  },
  {
   "cell_type": "code",
   "execution_count": 7,
   "metadata": {},
   "outputs": [],
   "source": [
    "p=Problema1(5,[10,30,60,80,120],5*60)"
   ]
  },
  {
   "cell_type": "code",
   "execution_count": 8,
   "metadata": {},
   "outputs": [
    {
     "name": "stdout",
     "output_type": "stream",
     "text": [
      "139 ms ± 7.68 ms per loop (mean ± std. dev. of 7 runs, 10 loops each)\n"
     ]
    }
   ],
   "source": [
    "%%timeit\n",
    "breadth_first_graph_search(p).solution()"
   ]
  },
  {
   "cell_type": "code",
   "execution_count": 9,
   "metadata": {},
   "outputs": [
    {
     "name": "stdout",
     "output_type": "stream",
     "text": [
      "30.8 ms ± 5.11 ms per loop (mean ± std. dev. of 7 runs, 10 loops each)\n"
     ]
    }
   ],
   "source": [
    "%%timeit\n",
    "depth_first_graph_search(p).solution()"
   ]
  },
  {
   "cell_type": "code",
   "execution_count": 10,
   "metadata": {},
   "outputs": [
    {
     "name": "stdout",
     "output_type": "stream",
     "text": [
      "805 ms ± 253 ms per loop (mean ± std. dev. of 7 runs, 1 loop each)\n"
     ]
    }
   ],
   "source": [
    "%%timeit\n",
    "uniform_cost_search(p).solution()"
   ]
  },
  {
   "cell_type": "code",
   "execution_count": 11,
   "metadata": {},
   "outputs": [
    {
     "name": "stdout",
     "output_type": "stream",
     "text": [
      "94.8 ms ± 2.98 ms per loop (mean ± std. dev. of 7 runs, 10 loops each)\n"
     ]
    }
   ],
   "source": [
    "%%timeit\n",
    "best_first_graph_search(p, p.h).solution()"
   ]
  },
  {
   "cell_type": "code",
   "execution_count": 12,
   "metadata": {},
   "outputs": [
    {
     "name": "stdout",
     "output_type": "stream",
     "text": [
      "82.2 ms ± 14.9 ms per loop (mean ± std. dev. of 7 runs, 10 loops each)\n"
     ]
    }
   ],
   "source": [
    "%%timeit\n",
    "best_first_graph_search(p, p.hViajes).solution()"
   ]
  },
  {
   "cell_type": "code",
   "execution_count": 13,
   "metadata": {},
   "outputs": [
    {
     "name": "stdout",
     "output_type": "stream",
     "text": [
      "92 ms ± 5.27 ms per loop (mean ± std. dev. of 7 runs, 10 loops each)\n"
     ]
    }
   ],
   "source": [
    "%%timeit\n",
    "best_first_graph_search(p, p.hInfLinternas).solution()"
   ]
  },
  {
   "cell_type": "code",
   "execution_count": 14,
   "metadata": {},
   "outputs": [
    {
     "data": {
      "text/plain": [
       "[('Cruzan las personas 1 y 3', (1, 3)),\n",
       " ('Cruza la persona 1', (1, 0)),\n",
       " ('Cruzan las personas 1 y 2', (1, 2)),\n",
       " ('Cruza la persona 1', (1, 0)),\n",
       " ('Cruzan las personas 4 y 5', (4, 5)),\n",
       " ('Cruza la persona 2', (2, 0)),\n",
       " ('Cruzan las personas 1 y 2', (1, 2))]"
      ]
     },
     "execution_count": 14,
     "metadata": {},
     "output_type": "execute_result"
    }
   ],
   "source": [
    "best_first_graph_search(p, p.hInfLinternas).solution()"
   ]
  },
  {
   "cell_type": "code",
   "execution_count": 15,
   "metadata": {},
   "outputs": [
    {
     "name": "stdout",
     "output_type": "stream",
     "text": [
      "695 ms ± 130 ms per loop (mean ± std. dev. of 7 runs, 1 loop each)\n"
     ]
    }
   ],
   "source": [
    "%%timeit\n",
    "astar_search(p).solution()"
   ]
  },
  {
   "cell_type": "code",
   "execution_count": 16,
   "metadata": {},
   "outputs": [
    {
     "name": "stdout",
     "output_type": "stream",
     "text": [
      "864 ms ± 72 ms per loop (mean ± std. dev. of 7 runs, 1 loop each)\n"
     ]
    }
   ],
   "source": [
    "%%timeit\n",
    "astar_search(p, p.hViajes).solution()"
   ]
  },
  {
   "cell_type": "code",
   "execution_count": 17,
   "metadata": {},
   "outputs": [
    {
     "name": "stdout",
     "output_type": "stream",
     "text": [
      "408 ms ± 27.7 ms per loop (mean ± std. dev. of 7 runs, 1 loop each)\n"
     ]
    }
   ],
   "source": [
    "%%timeit\n",
    "astar_search(p, p.hInfLinternas).solution()"
   ]
  },
  {
   "cell_type": "code",
   "execution_count": 18,
   "metadata": {},
   "outputs": [
    {
     "name": "stdout",
     "output_type": "stream",
     "text": [
      "699 ms ± 70.9 ms per loop (mean ± std. dev. of 7 runs, 1 loop each)\n"
     ]
    }
   ],
   "source": [
    "%%timeit\n",
    "astar_search(p).solution()"
   ]
  },
  {
   "cell_type": "code",
   "execution_count": 19,
   "metadata": {},
   "outputs": [
    {
     "data": {
      "text/plain": [
       "[('Cruzan las personas 1 y 2', (1, 2)),\n",
       " ('Cruza la persona 1', (1, 0)),\n",
       " ('Cruzan las personas 1 y 3', (1, 3)),\n",
       " ('Cruza la persona 1', (1, 0)),\n",
       " ('Cruzan las personas 4 y 5', (4, 5)),\n",
       " ('Cruza la persona 2', (2, 0)),\n",
       " ('Cruzan las personas 1 y 2', (1, 2))]"
      ]
     },
     "execution_count": 19,
     "metadata": {},
     "output_type": "execute_result"
    }
   ],
   "source": [
    "breadth_first_graph_search(p).solution()"
   ]
  },
  {
   "cell_type": "code",
   "execution_count": 20,
   "metadata": {},
   "outputs": [
    {
     "data": {
      "text/plain": [
       "[('Cruzan las personas 1 y 3', (1, 3)),\n",
       " ('Cruza la persona 1', (1, 0)),\n",
       " ('Cruzan las personas 1 y 2', (1, 2)),\n",
       " ('Cruza la persona 2', (2, 0)),\n",
       " ('Cruzan las personas 4 y 5', (4, 5)),\n",
       " ('Cruza la persona 1', (1, 0)),\n",
       " ('Cruzan las personas 1 y 2', (1, 2))]"
      ]
     },
     "execution_count": 20,
     "metadata": {},
     "output_type": "execute_result"
    }
   ],
   "source": [
    "depth_first_graph_search(p).solution()"
   ]
  },
  {
   "cell_type": "code",
   "execution_count": 21,
   "metadata": {},
   "outputs": [
    {
     "data": {
      "text/plain": [
       "[('Cruzan las personas 1 y 2', (1, 2)),\n",
       " ('Cruza la persona 1', (1, 0)),\n",
       " ('Cruzan las personas 4 y 5', (4, 5)),\n",
       " ('Cruza la persona 2', (2, 0)),\n",
       " ('Cruzan las personas 1 y 2', (1, 2)),\n",
       " ('Cruza la persona 1', (1, 0)),\n",
       " ('Cruzan las personas 1 y 3', (1, 3))]"
      ]
     },
     "execution_count": 21,
     "metadata": {},
     "output_type": "execute_result"
    }
   ],
   "source": [
    "uniform_cost_search(p).solution()"
   ]
  },
  {
   "cell_type": "code",
   "execution_count": 22,
   "metadata": {},
   "outputs": [
    {
     "data": {
      "text/plain": [
       "[('Cruzan las personas 1 y 2', (1, 2)),\n",
       " ('Cruza la persona 1', (1, 0)),\n",
       " ('Cruzan las personas 4 y 5', (4, 5)),\n",
       " ('Cruza la persona 2', (2, 0)),\n",
       " ('Cruzan las personas 1 y 2', (1, 2)),\n",
       " ('Cruza la persona 1', (1, 0)),\n",
       " ('Cruzan las personas 1 y 3', (1, 3))]"
      ]
     },
     "execution_count": 22,
     "metadata": {},
     "output_type": "execute_result"
    }
   ],
   "source": [
    "astar_search(p).solution()"
   ]
  },
  {
   "cell_type": "code",
   "execution_count": 23,
   "metadata": {},
   "outputs": [
    {
     "data": {
      "text/plain": [
       "[('Cruzan las personas 1 y 3', (1, 3)),\n",
       " ('Cruza la persona 1', (1, 0)),\n",
       " ('Cruzan las personas 1 y 2', (1, 2)),\n",
       " ('Cruza la persona 1', (1, 0)),\n",
       " ('Cruzan las personas 4 y 5', (4, 5)),\n",
       " ('Cruza la persona 2', (2, 0)),\n",
       " ('Cruzan las personas 1 y 2', (1, 2))]"
      ]
     },
     "execution_count": 23,
     "metadata": {},
     "output_type": "execute_result"
    }
   ],
   "source": [
    "best_first_graph_search(p, p.h).solution()"
   ]
  },
  {
   "cell_type": "markdown",
   "metadata": {},
   "source": [
    "Las cinco búsquedas son instántaneas"
   ]
  },
  {
   "cell_type": "code",
   "execution_count": 24,
   "metadata": {},
   "outputs": [],
   "source": [
    "# Hacemos una definición ampliada de la clase Problem de AIMA que nos va a permitir experimentar con distintos\n",
    "# estados iniciales, algoritmos y heurísticas, para resolver el 8-puzzle. \n",
    "# Añadimos en la clase ampliada la capacidad para contar el número de nodos analizados durante la búsqueda:\n",
    "\n",
    "\n",
    "class Problema_con_Analizados(Problem):\n",
    "\n",
    "    \"\"\"Es un problema que se comporta exactamente igual que el que recibe al\n",
    "       inicializarse, y además incorpora unos atributos nuevos para almacenar el\n",
    "       número de nodos analizados durante la búsqueda. De esta manera, no\n",
    "       tenemos que modificar el código del algoritmo de búsqueda.\"\"\" \n",
    "         \n",
    "    def __init__(self, problem):\n",
    "        self.initial = problem.initial\n",
    "        self.problem = problem\n",
    "        self.analizados  = 0\n",
    "        self.goal = problem.goal\n",
    "\n",
    "    def actions(self, estado):\n",
    "        return self.problem.actions(estado)\n",
    "\n",
    "    def result(self, estado, accion):\n",
    "        return self.problem.result(estado, accion)\n",
    "\n",
    "    def goal_test(self, estado):\n",
    "        self.analizados += 1\n",
    "        return self.problem.goal_test(estado)\n",
    "\n",
    "    def coste_de_aplicar_accion(self, estado, accion):\n",
    "        return self.problem.coste_de_aplicar_accion(estado,accion)       "
   ]
  },
  {
   "cell_type": "code",
   "execution_count": 25,
   "metadata": {},
   "outputs": [],
   "source": [
    "def resuelve_p(problem, algoritmo, h=None):\n",
    "\n",
    "    p=Problema_con_Analizados(problem)\n",
    "    if h: \n",
    "        sol= algoritmo(p,h).solution()\n",
    "    else: \n",
    "        sol= algoritmo(p).solution()\n",
    "    print(\"Solución: {0}\".format(sol))\n",
    "    print(\"Algoritmo: {0}\".format(algoritmo.__name__))\n",
    "    if h: \n",
    "        print(\"Heurística: {0}\".format(h.__name__))\n",
    "    else:\n",
    "        pass\n",
    "    print(\"Longitud de la solución: {0}. Nodos analizados: {1}\".format(len(sol),p.analizados))\n",
    "  "
   ]
  },
  {
   "cell_type": "code",
   "execution_count": 26,
   "metadata": {},
   "outputs": [
    {
     "name": "stdout",
     "output_type": "stream",
     "text": [
      "Solución: [('Cruzan las personas 1 y 3', (1, 3)), ('Cruza la persona 1', (1, 0)), ('Cruzan las personas 1 y 2', (1, 2)), ('Cruza la persona 1', (1, 0)), ('Cruzan las personas 4 y 5', (4, 5)), ('Cruza la persona 2', (2, 0)), ('Cruzan las personas 1 y 2', (1, 2))]\n",
      "Algoritmo: astar_search\n",
      "Heurística: h\n",
      "Longitud de la solución: 7. Nodos analizados: 395\n"
     ]
    }
   ],
   "source": [
    "resuelve_p(p, astar_search, p.h)"
   ]
  },
  {
   "cell_type": "code",
   "execution_count": 27,
   "metadata": {},
   "outputs": [
    {
     "name": "stdout",
     "output_type": "stream",
     "text": [
      "Solución: [('Cruzan las personas 1 y 2', (1, 2)), ('Cruza la persona 1', (1, 0)), ('Cruzan las personas 4 y 5', (4, 5)), ('Cruza la persona 2', (2, 0)), ('Cruzan las personas 1 y 3', (1, 3)), ('Cruza la persona 1', (1, 0)), ('Cruzan las personas 1 y 2', (1, 2))]\n",
      "Algoritmo: astar_search\n",
      "Heurística: hViajes\n",
      "Longitud de la solución: 7. Nodos analizados: 250\n"
     ]
    }
   ],
   "source": [
    "resuelve_p(p, astar_search, p.hViajes)"
   ]
  },
  {
   "cell_type": "code",
   "execution_count": 28,
   "metadata": {},
   "outputs": [
    {
     "name": "stdout",
     "output_type": "stream",
     "text": [
      "Solución: [('Cruzan las personas 1 y 3', (1, 3)), ('Cruza la persona 1', (1, 0)), ('Cruzan las personas 1 y 2', (1, 2)), ('Cruza la persona 1', (1, 0)), ('Cruzan las personas 4 y 5', (4, 5)), ('Cruza la persona 2', (2, 0)), ('Cruzan las personas 1 y 2', (1, 2))]\n",
      "Algoritmo: astar_search\n",
      "Heurística: hInfLinternas\n",
      "Longitud de la solución: 7. Nodos analizados: 457\n"
     ]
    }
   ],
   "source": [
    "resuelve_p(p, astar_search, p.hInfLinternas)"
   ]
  },
  {
   "cell_type": "code",
   "execution_count": 29,
   "metadata": {},
   "outputs": [
    {
     "name": "stdout",
     "output_type": "stream",
     "text": [
      "Solución: [('Cruzan las personas 1 y 3', (1, 3)), ('Cruza la persona 1', (1, 0)), ('Cruzan las personas 1 y 2', (1, 2)), ('Cruza la persona 1', (1, 0)), ('Cruzan las personas 4 y 5', (4, 5)), ('Cruza la persona 2', (2, 0)), ('Cruzan las personas 1 y 2', (1, 2))]\n",
      "Algoritmo: best_first_graph_search\n",
      "Heurística: h\n",
      "Longitud de la solución: 7. Nodos analizados: 536\n"
     ]
    }
   ],
   "source": [
    "resuelve_p(p, best_first_graph_search, p.h)"
   ]
  },
  {
   "cell_type": "code",
   "execution_count": 30,
   "metadata": {},
   "outputs": [
    {
     "name": "stdout",
     "output_type": "stream",
     "text": [
      "Solución: [('Cruzan las personas 1 y 3', (1, 3)), ('Cruza la persona 1', (1, 0)), ('Cruzan las personas 1 y 2', (1, 2)), ('Cruza la persona 1', (1, 0)), ('Cruzan las personas 4 y 5', (4, 5)), ('Cruza la persona 2', (2, 0)), ('Cruzan las personas 1 y 2', (1, 2))]\n",
      "Algoritmo: best_first_graph_search\n",
      "Heurística: hViajes\n",
      "Longitud de la solución: 7. Nodos analizados: 536\n"
     ]
    }
   ],
   "source": [
    "resuelve_p(p, best_first_graph_search, p.hViajes)"
   ]
  },
  {
   "cell_type": "code",
   "execution_count": 31,
   "metadata": {},
   "outputs": [
    {
     "name": "stdout",
     "output_type": "stream",
     "text": [
      "Solución: [('Cruzan las personas 1 y 3', (1, 3)), ('Cruza la persona 1', (1, 0)), ('Cruzan las personas 1 y 2', (1, 2)), ('Cruza la persona 1', (1, 0)), ('Cruzan las personas 4 y 5', (4, 5)), ('Cruza la persona 2', (2, 0)), ('Cruzan las personas 1 y 2', (1, 2))]\n",
      "Algoritmo: best_first_graph_search\n",
      "Heurística: hInfLinternas\n",
      "Longitud de la solución: 7. Nodos analizados: 502\n"
     ]
    }
   ],
   "source": [
    "resuelve_p(p, best_first_graph_search, p.hInfLinternas)"
   ]
  },
  {
   "cell_type": "code",
   "execution_count": 32,
   "metadata": {},
   "outputs": [
    {
     "name": "stdout",
     "output_type": "stream",
     "text": [
      "Solución: [('Cruzan las personas 1 y 2', (1, 2)), ('Cruza la persona 1', (1, 0)), ('Cruzan las personas 1 y 3', (1, 3)), ('Cruza la persona 1', (1, 0)), ('Cruzan las personas 4 y 5', (4, 5)), ('Cruza la persona 2', (2, 0)), ('Cruzan las personas 1 y 2', (1, 2))]\n",
      "Algoritmo: breadth_first_graph_search\n",
      "Longitud de la solución: 7. Nodos analizados: 720\n"
     ]
    }
   ],
   "source": [
    "resuelve_p(p, breadth_first_graph_search)"
   ]
  },
  {
   "cell_type": "code",
   "execution_count": 33,
   "metadata": {},
   "outputs": [
    {
     "name": "stdout",
     "output_type": "stream",
     "text": [
      "Solución: [('Cruzan las personas 1 y 3', (1, 3)), ('Cruza la persona 1', (1, 0)), ('Cruzan las personas 1 y 2', (1, 2)), ('Cruza la persona 2', (2, 0)), ('Cruzan las personas 4 y 5', (4, 5)), ('Cruza la persona 1', (1, 0)), ('Cruzan las personas 1 y 2', (1, 2))]\n",
      "Algoritmo: depth_first_graph_search\n",
      "Longitud de la solución: 7. Nodos analizados: 610\n"
     ]
    }
   ],
   "source": [
    "resuelve_p(p, depth_first_graph_search)"
   ]
  },
  {
   "cell_type": "code",
   "execution_count": 34,
   "metadata": {
    "scrolled": true
   },
   "outputs": [
    {
     "name": "stdout",
     "output_type": "stream",
     "text": [
      "Solución: [('Cruzan las personas 1 y 3', (1, 3)), ('Cruza la persona 1', (1, 0)), ('Cruzan las personas 1 y 2', (1, 2)), ('Cruza la persona 1', (1, 0)), ('Cruzan las personas 4 y 5', (4, 5)), ('Cruza la persona 2', (2, 0)), ('Cruzan las personas 1 y 2', (1, 2))]\n",
      "Algoritmo: uniform_cost_search\n",
      "Longitud de la solución: 7. Nodos analizados: 720\n"
     ]
    }
   ],
   "source": [
    "resuelve_p(p, uniform_cost_search)"
   ]
  },
  {
   "cell_type": "markdown",
   "metadata": {},
   "source": [
    "### COMENTARIOS DE HEURÍSTICAS Y BÚSQUEDAS\n",
    "    1. En primer lugar, como hemos analizado en las respectivas versiones con la clase Problema_con_Analizados la mejor solución viene de usar búsqueda informada o heurística. En concreto, tenemos que analizar menos nodos con A* y de todas las heurísticas propuestas la mejor es hViajes, con 250, en 2º lugar hTiempoMin (h)(395) y en el tercer lugar hInfLinternas(497). \n",
    "\n",
    "    2. hViajes es más informada que hTiempoMin pues hViajes mira el número mínimo de pasos que nos quedaría siendo el coste de cada viaje 1, sin embargo, en hTiempoMin (coste del viaje = el tiempo que se tarda) multiplica esos viajes mínimos por el menor de los tiempos de todas las personas (no por el menor tiempo de los viajes posibles).\n",
    "\n",
    "    3. En la última heurística la información que manejamos es muy escasa y la heurística es demasiado 'optimista', por eso es la menos informada. \n",
    "\n",
    "    4. Por otro lado, entre A* y la búsqueda voraz es preferible la primera pues tenemos en cuenta el coste del camino que llevamos, siendo en este caso bastante importante saber cuánto tiempo (o viajes) llevamos por la duración de la batería de la linterna. \n",
    "\n",
    "    5. Vemos que las búsquedas ciegas no encajan con este problema pues es importante llevar una información sobre lo prometedores que son los caminos posibles pues tenemos que terminar el problema con el menor tiempo de linterna utilizado. Por lo tanto, estas heurísticas analizan más nodos de los necesarios."
   ]
  },
  {
   "cell_type": "markdown",
   "metadata": {},
   "source": [
    "#### Factor ramificación:\n",
    "Al inicio hay 5 personas a la izquierda y tenemos 15 posibles acciones (cruce de las 5 personas solas y las combinaciones de las 5 cogiendo 2). Después tendríamos dos casos: que cruce una sola persona y tenga que volver y tendríamos la situación inicial (no tiene sentido) o que crucen dos y vuelva una y nos quedarían 4 personas en la orilla origen y tendríamos 10 posibles acciones. Por lo tanto, según vamos aumentando la profundidad se va reduciendo el factor de ramificación para profundidad para y va aumentando para profundidad impar."
   ]
  }
 ],
 "metadata": {
  "kernelspec": {
   "display_name": "Python 3",
   "language": "python",
   "name": "python3"
  },
  "language_info": {
   "codemirror_mode": {
    "name": "ipython",
    "version": 3
   },
   "file_extension": ".py",
   "mimetype": "text/x-python",
   "name": "python",
   "nbconvert_exporter": "python",
   "pygments_lexer": "ipython3",
   "version": "3.8.3"
  }
 },
 "nbformat": 4,
 "nbformat_minor": 4
}

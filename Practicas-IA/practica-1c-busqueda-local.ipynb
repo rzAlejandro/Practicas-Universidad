{
 "cells": [
  {
   "cell_type": "markdown",
   "metadata": {},
   "source": [
    "Mario Jimenez;  David Seijas;   Alejandro Ramirez"
   ]
  },
  {
   "cell_type": "markdown",
   "metadata": {},
   "source": [
    "# Práctica 1C - Inteligencia Artificial\n",
    "## Belén Díaz Agudo -  Facultad de Informática UCM\n",
    "## Búsqueda local\n",
    "En esta primera parte usaremos ejercicios paso a paso para familiarizarnos con la resolución de problemas sencillos de optimización, como la maximización o minimización de una función, o el problema de la mochila o del viajante, problemas conocidos cuya resolución se ha abordado con técnicas algorítmicas y que vamos a resolver utilizando algoritmos de búsqueda local. En la segunda parte de la práctica se pide resolver el problema de la organización de jornadas informáticas dado en el enunciado."
   ]
  },
  {
   "cell_type": "markdown",
   "metadata": {},
   "source": [
    "## Parte 1. Algoritmo de escalada\n",
    "Hill Climbing es un algoritmo de búsqueda local heurística utilizada para problemas de optimización.\n",
    "Esta solución puede o no ser el óptimo global. El algoritmo es una variante del algoritmo de generación y prueba.\n",
    "<br>\n",
    "En general, el algoritmo funciona de la siguiente manera:\n",
    "- Evaluar el estado inicial.\n",
    "- Si es igual al estado del objetivo, terminamos.\n",
    "- Encuentra un estado vecino al estado actual\n",
    "- Evaluar este estado. Si está más cerca del estado objetivo que antes, reemplace el estado inicial con este estado y repita estos pasos.\n",
    "<br>\n",
    "Usaremos la implementación de AIMA que está en el módulo search.py\n",
    "\n",
    "    def hill_climbing(problem):\n",
    "        \"\"\"From the initial node, keep choosing the neighbor with highest value,\n",
    "        stopping when no neighbor is better. [Figure 4.2]\"\"\"\n",
    "        current = Node(problem.initial)\n",
    "        while True:\n",
    "            neighbors = current.expand(problem)\n",
    "            if not neighbors:\n",
    "                break\n",
    "            neighbor = argmax_random_tie(neighbors,\n",
    "                                     key=lambda node: problem.value(node.state))\n",
    "            if problem.value(neighbor.state) <= problem.value(current.state):\n",
    "                break\n",
    "            current = neighbor\n",
    "        return current.state\n"
   ]
  },
  {
   "cell_type": "markdown",
   "metadata": {},
   "source": [
    "### TSP (Travelling Salesman Problem): el problema del viajante\n",
    "Dado un conjunto de ciudades y la distancia entre cada par de ciudades, el problema es encontrar la ruta más corta posible que visite cada ciudad exactamente una vez y regrese al punto de partida. Es un problema NP hard. No existen una solución de coste polinomial. "
   ]
  },
  {
   "cell_type": "code",
   "execution_count": 13,
   "metadata": {},
   "outputs": [
    {
     "name": "stdout",
     "output_type": "stream",
     "text": [
      "C:\\Users\\aleja\\Google Drive\\4o\\INFORMATICA\\INTELIGENCIA ARTIFICIAL\\PRACTICAS\\aima-python\n"
     ]
    }
   ],
   "source": [
    "cd aima-python"
   ]
  },
  {
   "cell_type": "code",
   "execution_count": 14,
   "metadata": {},
   "outputs": [],
   "source": [
    "from search import *\n"
   ]
  },
  {
   "cell_type": "code",
   "execution_count": 15,
   "metadata": {},
   "outputs": [],
   "source": [
    "##Resolvereremos el problema del viajante TSP para encontrar una solución aproximada.\n",
    "\n",
    "class TSP_problem(Problem):\n",
    "\n",
    "    def two_opt(self, state):\n",
    "        \"\"\" Neighbour generating function for Traveling Salesman Problem \"\"\"\n",
    "        neighbour_state = state[:]\n",
    "        left = random.randint(0, len(neighbour_state) - 1)\n",
    "        right = random.randint(0, len(neighbour_state) - 1)\n",
    "        if left > right:\n",
    "            left, right = right, left\n",
    "        neighbour_state[left: right + 1] = reversed(neighbour_state[left: right + 1])\n",
    "        return neighbour_state\n",
    "\n",
    "    def actions(self, state):\n",
    "        \"\"\" action that can be excuted in given state \"\"\"\n",
    "        return [self.two_opt]\n",
    "\n",
    "    def result(self, state, action):\n",
    "        \"\"\"  result after applying the given action on the given state \"\"\"\n",
    "        return action(state)\n",
    "\n",
    "    def path_cost(self, c, state1, action, state2):\n",
    "        \"\"\" total distance for the Traveling Salesman to be covered if in state2  \"\"\"\n",
    "        cost = 0\n",
    "        for i in range(len(state2) - 1):\n",
    "            cost += distances[state2[i]][state2[i + 1]]\n",
    "        cost += distances[state2[0]][state2[-1]]\n",
    "        return cost\n",
    "\n",
    "    def value(self, state):\n",
    "        \"\"\" value of path cost given negative for the given state \"\"\"\n",
    "        return -1 * self.path_cost(None, None, None, state)"
   ]
  },
  {
   "cell_type": "code",
   "execution_count": 16,
   "metadata": {},
   "outputs": [],
   "source": [
    "## Resolveremos el TSP para las ciudades de la lista de ciudades de Rumanía.\n",
    "## ['Arad', 'Bucharest', 'Craiova', 'Drobeta', 'Eforie', 'Fagaras', 'Giurgiu', 'Hirsova', 'Iasi', 'Lugoj', 'Mehadia', 'Neamt', 'Oradea', 'Pitesti', 'Rimnicu', 'Sibiu', 'Timisoara', 'Urziceni', 'Vaslui', 'Zerind']"
   ]
  },
  {
   "cell_type": "code",
   "execution_count": 17,
   "metadata": {},
   "outputs": [],
   "source": [
    "# Usaremos la siguiente representacion del libro AIMA para el mapa de Rumanía.\n",
    "\n",
    "romania_map = UndirectedGraph(dict(\n",
    "    Arad=dict(Zerind=75, Sibiu=140, Timisoara=118),\n",
    "    Bucharest=dict(Urziceni=85, Pitesti=101, Giurgiu=90, Fagaras=211),\n",
    "    Craiova=dict(Drobeta=120, Rimnicu=146, Pitesti=138),\n",
    "    Drobeta=dict(Mehadia=75),\n",
    "    Eforie=dict(Hirsova=86),\n",
    "    Fagaras=dict(Sibiu=99),\n",
    "    Hirsova=dict(Urziceni=98),\n",
    "    Iasi=dict(Vaslui=92, Neamt=87),\n",
    "    Lugoj=dict(Timisoara=111, Mehadia=70),\n",
    "    Oradea=dict(Zerind=71, Sibiu=151),\n",
    "    Pitesti=dict(Rimnicu=97),\n",
    "    Rimnicu=dict(Sibiu=80),\n",
    "    Urziceni=dict(Vaslui=142)))\n",
    "\n",
    "romania_map.locations = dict(\n",
    "    Arad=(91, 492), Bucharest=(400, 327), Craiova=(253, 288),\n",
    "    Drobeta=(165, 299), Eforie=(562, 293), Fagaras=(305, 449),\n",
    "    Giurgiu=(375, 270), Hirsova=(534, 350), Iasi=(473, 506),\n",
    "    Lugoj=(165, 379), Mehadia=(168, 339), Neamt=(406, 537),\n",
    "    Oradea=(131, 571), Pitesti=(320, 368), Rimnicu=(233, 410),\n",
    "    Sibiu=(207, 457), Timisoara=(94, 410), Urziceni=(456, 350),\n",
    "    Vaslui=(509, 444), Zerind=(108, 531))"
   ]
  },
  {
   "cell_type": "markdown",
   "metadata": {},
   "source": [
    "Es bastante sencillo entender este `romania_map`. El primer nodo ** Arad ** tiene tres vecinos llamados ** Zerind **, ** Sibiu **, ** Timisoara **. Cada uno de estos nodos son 75, 140, 118 unidades aparte de ** Arad ** respectivamente. Y lo mismo ocurre con otros nodos.\n",
    "\n",
    "Y `romania_map.locations` contiene las posiciones de cada uno de los nodos. \n",
    "Como heurística se puede usar la distancia en línea recta o la distancia manhattan (que es diferente de la proporcionada en `romania_map`) entre dos ciudades."
   ]
  },
  {
   "cell_type": "code",
   "execution_count": 18,
   "metadata": {},
   "outputs": [
    {
     "name": "stdout",
     "output_type": "stream",
     "text": [
      "{'Arad': (91, 492), 'Bucharest': (400, 327), 'Craiova': (253, 288), 'Drobeta': (165, 299), 'Eforie': (562, 293), 'Fagaras': (305, 449), 'Giurgiu': (375, 270), 'Hirsova': (534, 350), 'Iasi': (473, 506), 'Lugoj': (165, 379), 'Mehadia': (168, 339), 'Neamt': (406, 537), 'Oradea': (131, 571), 'Pitesti': (320, 368), 'Rimnicu': (233, 410), 'Sibiu': (207, 457), 'Timisoara': (94, 410), 'Urziceni': (456, 350), 'Vaslui': (509, 444), 'Zerind': (108, 531)}\n"
     ]
    }
   ],
   "source": [
    "romania_locations = romania_map.locations\n",
    "print(romania_locations)"
   ]
  },
  {
   "cell_type": "code",
   "execution_count": 19,
   "metadata": {},
   "outputs": [],
   "source": [
    "# node colors, node positions and node label positions\n",
    "node_colors = {node: 'white' for node in romania_map.locations.keys()}\n",
    "node_positions = romania_map.locations\n",
    "node_label_pos = { k:[v[0],v[1]-10]  for k,v in romania_map.locations.items() }\n",
    "edge_weights = {(k, k2) : v2 for k, v in romania_map.graph_dict.items() for k2, v2 in v.items()}\n",
    "\n",
    "romania_graph_data = {  'graph_dict' : romania_map.graph_dict,\n",
    "                        'node_colors': node_colors,\n",
    "                        'node_positions': node_positions,\n",
    "                        'node_label_positions': node_label_pos,\n",
    "                         'edge_weights': edge_weights\n",
    "                     }"
   ]
  },
  {
   "cell_type": "code",
   "execution_count": 20,
   "metadata": {},
   "outputs": [
    {
     "data": {
      "text/plain": [
       "'from notebook import show_map, final_path_colors, display_visual\\nimport matplotlib\\n\\nshow_map(romania_graph_data)\\n'"
      ]
     },
     "execution_count": 20,
     "metadata": {},
     "output_type": "execute_result"
    }
   ],
   "source": [
    "'''from notebook import show_map, final_path_colors, display_visual\n",
    "import matplotlib\n",
    "\n",
    "show_map(romania_graph_data)\n",
    "'''"
   ]
  },
  {
   "cell_type": "code",
   "execution_count": 21,
   "metadata": {},
   "outputs": [
    {
     "name": "stdout",
     "output_type": "stream",
     "text": [
      "['Arad', 'Bucharest', 'Craiova', 'Drobeta', 'Eforie', 'Fagaras', 'Giurgiu', 'Hirsova', 'Iasi', 'Lugoj', 'Mehadia', 'Neamt', 'Oradea', 'Pitesti', 'Rimnicu', 'Sibiu', 'Timisoara', 'Urziceni', 'Vaslui', 'Zerind']\n"
     ]
    }
   ],
   "source": [
    "## el siguiente código crea un diccionario y calcula y añade al diccionario la distancia manhattan entre las ciudades. \n",
    "import numpy as np\n",
    "\n",
    "distances = {}\n",
    "all_cities = []\n",
    "\n",
    "for city in romania_map.locations.keys():\n",
    "    distances[city] = {}\n",
    "    all_cities.append(city)\n",
    "    \n",
    "all_cities.sort()\n",
    "print(all_cities)\n",
    "\n",
    "for name_1, coordinates_1 in romania_map.locations.items():\n",
    "        for name_2, coordinates_2 in romania_map.locations.items():\n",
    "            distances[name_1][name_2] = np.linalg.norm(\n",
    "                [coordinates_1[0] - coordinates_2[0], coordinates_1[1] - coordinates_2[1]])\n",
    "            distances[name_2][name_1] = np.linalg.norm(\n",
    "                [coordinates_1[0] - coordinates_2[0], coordinates_1[1] - coordinates_2[1]])"
   ]
  },
  {
   "cell_type": "code",
   "execution_count": 22,
   "metadata": {},
   "outputs": [],
   "source": [
    "# Creamos una instancia del problema TSP con la lista de ciudades anterior que se na extraido del mapa.\n",
    "# En el mapa hay informacion de las distancias que se utilizan en la clase TSP_problem para calcular el coste y las heurísticas.\n",
    "tsp = TSP_problem(all_cities)"
   ]
  },
  {
   "cell_type": "code",
   "execution_count": 23,
   "metadata": {},
   "outputs": [],
   "source": [
    "## Redefinimos el hill climbing de AIMA para que el método de generacion de vecinos sea acceder al grafo que hemos definido para el TSP\n",
    "\n",
    "def hill_climbing(problem):\n",
    "    \n",
    "    \"\"\"From the initial node, keep choosing the neighbor with highest value,\n",
    "    stopping when no neighbor is better. [Figure 4.2]\"\"\"\n",
    "    \n",
    "    def find_neighbors(state, number_of_neighbors=100):\n",
    "        \"\"\" finds neighbors using two_opt method \"\"\"\n",
    "        \n",
    "        neighbors = []\n",
    "        \n",
    "        for i in range(number_of_neighbors):\n",
    "            new_state = problem.two_opt(state)\n",
    "            neighbors.append(Node(new_state))\n",
    "            state = new_state\n",
    "            \n",
    "        return neighbors\n",
    "\n",
    "    # as this is a stochastic algorithm, we will set a cap on the number of iterations\n",
    "    iterations = 10000\n",
    "    \n",
    "    current = Node(problem.initial)\n",
    "    while iterations:\n",
    "        neighbors = find_neighbors(current.state)\n",
    "        if not neighbors:\n",
    "            break\n",
    "        neighbor = argmax_random_tie(neighbors,\n",
    "                                     key=lambda node: problem.value(node.state))\n",
    "        if problem.value(neighbor.state) >= problem.value(current.state):\n",
    "            current.state = neighbor.state\n",
    "        iterations -= 1\n",
    "        \n",
    "    return current.state"
   ]
  },
  {
   "cell_type": "code",
   "execution_count": 24,
   "metadata": {},
   "outputs": [
    {
     "data": {
      "text/plain": [
       "['Fagaras',\n",
       " 'Neamt',\n",
       " 'Iasi',\n",
       " 'Vaslui',\n",
       " 'Hirsova',\n",
       " 'Eforie',\n",
       " 'Urziceni',\n",
       " 'Bucharest',\n",
       " 'Giurgiu',\n",
       " 'Pitesti',\n",
       " 'Craiova',\n",
       " 'Drobeta',\n",
       " 'Mehadia',\n",
       " 'Lugoj',\n",
       " 'Timisoara',\n",
       " 'Arad',\n",
       " 'Zerind',\n",
       " 'Oradea',\n",
       " 'Sibiu',\n",
       " 'Rimnicu']"
      ]
     },
     "execution_count": 24,
     "metadata": {},
     "output_type": "execute_result"
    }
   ],
   "source": [
    "hill_climbing(tsp)"
   ]
  },
  {
   "cell_type": "code",
   "execution_count": 25,
   "metadata": {},
   "outputs": [
    {
     "data": {
      "text/plain": [
       "['Arad',\n",
       " 'Timisoara',\n",
       " 'Lugoj',\n",
       " 'Mehadia',\n",
       " 'Drobeta',\n",
       " 'Craiova',\n",
       " 'Pitesti',\n",
       " 'Giurgiu',\n",
       " 'Bucharest',\n",
       " 'Urziceni',\n",
       " 'Eforie',\n",
       " 'Hirsova',\n",
       " 'Vaslui',\n",
       " 'Iasi',\n",
       " 'Neamt',\n",
       " 'Fagaras',\n",
       " 'Rimnicu',\n",
       " 'Sibiu',\n",
       " 'Oradea',\n",
       " 'Zerind']"
      ]
     },
     "execution_count": 25,
     "metadata": {},
     "output_type": "execute_result"
    }
   ],
   "source": [
    "hill_climbing(tsp)"
   ]
  },
  {
   "cell_type": "code",
   "execution_count": 26,
   "metadata": {},
   "outputs": [
    {
     "data": {
      "text/plain": [
       "['Lugoj',\n",
       " 'Mehadia',\n",
       " 'Drobeta',\n",
       " 'Craiova',\n",
       " 'Pitesti',\n",
       " 'Giurgiu',\n",
       " 'Bucharest',\n",
       " 'Urziceni',\n",
       " 'Eforie',\n",
       " 'Hirsova',\n",
       " 'Vaslui',\n",
       " 'Iasi',\n",
       " 'Neamt',\n",
       " 'Fagaras',\n",
       " 'Rimnicu',\n",
       " 'Sibiu',\n",
       " 'Oradea',\n",
       " 'Zerind',\n",
       " 'Arad',\n",
       " 'Timisoara']"
      ]
     },
     "execution_count": 26,
     "metadata": {},
     "output_type": "execute_result"
    }
   ],
   "source": [
    "hill_climbing(tsp)"
   ]
  },
  {
   "cell_type": "markdown",
   "metadata": {},
   "source": [
    "### Ejercicio 1. Resuelve el problema TSP con el algoritmo de escalada por máxima pendiente en el mapa de ciudades de Rumanía y explica el resultado obtenido. \n",
    "\n",
    "Realiza un análisis razonado de las propiedades del algoritmo: eficiencia y optimalidad en base a la ejecución. \n",
    "\n",
    "¿Ha encontrado el algoritmo el óptimo global? \n",
    "¿Ha encontrado la misma solución en distintas ejecuciones?\n",
    "\n",
    "Sólo se pide hacer una comparativa teórica (breve) con cómo se comporta este algoritmo y relacionarlo con otros algoritmos vistos en clase. \n",
    "\n",
    "Opcionalmente se puede hacer la comparativa real con algún algoritmo de búsqueda exhaustiva. \n",
    "\n",
    "1. En teoría no tiene por qué encontrar el óptimo global. Esto se debe a que el algoritmo puede estancarse en óptimos locales, suceso que se da cuando los vecinos de un estado son peores que el propio estado.\n",
    "2. No encuentra la misma solución en distintas ejecuciones, pues el algoritmo no es determinista. En la generación de los vecinos interviene la aleatoriedad. Por ello, para un mismo estado y diferentes iteraciones, se generan distintos vecinos.\n",
    "3. A la hora de encontrar el óptimo global, el algoritmo del enfriamiento simulado tiene más posibilidad, ya que permite dirigirse hacia un vecino peor con una probabilidad que decrece con cada iteración. De forma abstracta, esto consigue evitar estancarse en óptimos locales.\n"
   ]
  },
  {
   "cell_type": "markdown",
   "metadata": {},
   "source": [
    "## Parte 2. Enfriamiento simulado ( simulated annealing) \n",
    "El algoritmo de enfriamiento simulado puede manejar las situaciones de óptimo local o mesetas típicas en algoritmos de escalada.\n",
    "<br>\n",
    "El enfriamiento simulado es bastante similar a la escalada pero en lugar de elegir el mejor movimiento en cada iteración, elige un movimiento aleatorio. Si este movimiento aleatorio nos acerca al óptimo global, será aceptado,\n",
    "pero si no lo hace, el algoritmo puede aceptar o rechazar el movimiento en función de una probabilidad dictada por la temperatura.  Cuando la `temperatura` es alta, es más probable que el algoritmo acepte un movimiento aleatorio incluso si es malo. A bajas temperaturas, solo se aceptan buenos movimientos, con alguna excepción ocasional.\n",
    "Esto permite la exploración del espacio de estado y evita que el algoritmo se atasque en el óptimo local.\n",
    "\n",
    "    Usaremos la implementación de AIMA del modulo search.py\n",
    "    \n",
    "    def simulated_annealing(problem, schedule=exp_schedule()):\n",
    "    \"\"\"[Figure 4.5] CAUTION: This differs from the pseudocode as it\n",
    "    returns a state instead of a Node.\"\"\"\n",
    "    current = Node(problem.initial)\n",
    "    for t in range(sys.maxsize):\n",
    "        T = schedule(t)\n",
    "        if T == 0:\n",
    "            return current.state\n",
    "        neighbors = current.expand(problem)\n",
    "        if not neighbors:\n",
    "            return current.state\n",
    "        next_choice = random.choice(neighbors)\n",
    "        delta_e = problem.value(next_choice.state) - problem.value(current.state)\n",
    "        if delta_e > 0 or probability(math.exp(delta_e / T)):\n",
    "            current = next_choice"
   ]
  },
  {
   "cell_type": "markdown",
   "metadata": {},
   "source": [
    "Como hemos visto en clase hay varios métodos de enfriamiento (scheduling routine) \n",
    "Se puede variar el método de enfriamiento. En la implementación actual estamos usando el método de enfriamiento exponencial (que se pasa como parámetro). \n",
    "\n",
    "    def exp_schedule(k=20, lam=0.005, limit=100):\n",
    "        \"\"\"One possible schedule function for simulated annealing\"\"\"\n",
    "        return lambda t: (k * math.exp(-lam * t) if t < limit else 0)"
   ]
  },
  {
   "cell_type": "markdown",
   "metadata": {},
   "source": [
    "Como ejemplo, vamos a definir un problema sencillo de encontrar el punto más alto en una rejilla. Este problema está definido en el módulo search.py como PeakFindingProblem. Lo reproducimos aquí y creamos una rejilla simple."
   ]
  },
  {
   "cell_type": "code",
   "execution_count": 27,
   "metadata": {},
   "outputs": [],
   "source": [
    "initial = (0, 0)\n",
    "grid = [[3, 7, 2, 8], [5, 2, 9, 1], [5, 3, 3, 1]]"
   ]
  },
  {
   "cell_type": "code",
   "execution_count": 28,
   "metadata": {},
   "outputs": [],
   "source": [
    "# Pre-defined actions for PeakFindingProblem\n",
    "directions4 = { 'W':(-1, 0), 'N':(0, 1), 'E':(1, 0), 'S':(0, -1) }\n",
    "directions8 = dict(directions4) \n",
    "directions8.update({'NW':(-1, 1), 'NE':(1, 1), 'SE':(1, -1), 'SW':(-1, -1) })\n",
    "\n",
    "class PeakFindingProblem(Problem):\n",
    "    \"\"\"Problem of finding the highest peak in a limited grid\"\"\"\n",
    "\n",
    "    def __init__(self, initial, grid, defined_actions=directions4):\n",
    "        \"\"\"The grid is a 2 dimensional array/list whose state is specified by tuple of indices\"\"\"\n",
    "        Problem.__init__(self, initial)\n",
    "        self.grid = grid\n",
    "        self.defined_actions = defined_actions\n",
    "        self.n = len(grid)\n",
    "        assert self.n > 0\n",
    "        self.m = len(grid[0])\n",
    "        assert self.m > 0\n",
    "\n",
    "    def actions(self, state):\n",
    "        \"\"\"Returns the list of actions which are allowed to be taken from the given state\"\"\"\n",
    "        allowed_actions = []\n",
    "        for action in self.defined_actions:\n",
    "            next_state = vector_add(state, self.defined_actions[action])\n",
    "            if next_state[0] >= 0 and next_state[1] >= 0 and next_state[0] <= self.n - 1 and next_state[1] <= self.m - 1:\n",
    "                allowed_actions.append(action)\n",
    "\n",
    "        return allowed_actions\n",
    "\n",
    "    def result(self, state, action):\n",
    "        \"\"\"Moves in the direction specified by action\"\"\"\n",
    "        return vector_add(state, self.defined_actions[action])\n",
    "\n",
    "    def value(self, state):\n",
    "        \"\"\"Value of a state is the value it is the index to\"\"\"\n",
    "        x, y = state\n",
    "        assert 0 <= x < self.n\n",
    "        assert 0 <= y < self.m\n",
    "        return self.grid[x][y]\n"
   ]
  },
  {
   "cell_type": "code",
   "execution_count": 29,
   "metadata": {},
   "outputs": [],
   "source": [
    "problem = PeakFindingProblem(initial, grid, directions4)"
   ]
  },
  {
   "cell_type": "code",
   "execution_count": 30,
   "metadata": {},
   "outputs": [
    {
     "name": "stdout",
     "output_type": "stream",
     "text": [
      "9\n"
     ]
    },
    {
     "data": {
      "text/plain": [
       "41"
      ]
     },
     "execution_count": 30,
     "metadata": {},
     "output_type": "execute_result"
    }
   ],
   "source": [
    "# Lo resolvemos con enfriamiento simulado\n",
    "\n",
    "solutions = [problem.value(simulated_annealing(problem)) for i in range(100)]\n",
    "count=0\n",
    "for i in range(100):\n",
    "    if solutions[i]>=7:\n",
    "        count+=1\n",
    "print(max(solutions))\n",
    "count"
   ]
  },
  {
   "cell_type": "code",
   "execution_count": 31,
   "metadata": {},
   "outputs": [],
   "source": [
    "def hill_climbing(problem):\n",
    "    \"\"\"From the initial node, keep choosing the neighbor with highest value,\n",
    "    stopping when no neighbor is better. [Figure 4.2]\"\"\"\n",
    "    current = Node(problem.initial)\n",
    "    while True:\n",
    "        neighbors = current.expand(problem)\n",
    "        if not neighbors:\n",
    "            break\n",
    "        neighbor = argmax_random_tie(neighbors,\n",
    "                                     key=lambda node: problem.value(node.state))\n",
    "        if problem.value(neighbor.state) <= problem.value(current.state):\n",
    "            break\n",
    "        current = neighbor\n",
    "    return current.state"
   ]
  },
  {
   "cell_type": "code",
   "execution_count": 32,
   "metadata": {},
   "outputs": [
    {
     "data": {
      "text/plain": [
       "7"
      ]
     },
     "execution_count": 32,
     "metadata": {},
     "output_type": "execute_result"
    }
   ],
   "source": [
    "solution = problem.value(hill_climbing(problem))\n",
    "solution"
   ]
  },
  {
   "cell_type": "markdown",
   "metadata": {},
   "source": [
    "### Ejercicio 2.  Resuelve el problema anterior de encontrar el punto máximo en una rejilla. Comenta y razona los resultados obtenidos en distintas rejjillas con los algoritmos de enfriamiento simulado y escalada por máxima pendiente. \n",
    " \n",
    " \n",
    "Ejemplo de rejilla para pruebas\n",
    "\n",
    "grid = [[0.00, 0.00, 0.00, 0.00, 0.00, 0.00, 0.00, 0.00, 0.00],\n",
    "        [0.00, 0.00, 0.00, 0.00, 0.00, 0.00, 0.00, 0.00, 0.00],\n",
    "        [0.00, 0.00, 0.00, 0.40, 0.40, 0.00, 0.00, 0.00, 0.00],\n",
    "        [0.00, 0.00, 0.00, 0.00, 0.00, 0.00, 0.00, 0.70, 1.40],\n",
    "        [2.20, 1.80, 0.70, 0.00, 0.00, 0.00, 0.00, 0.00, 0.00],\n",
    "        [2.20, 1.80, 4.70, 6.50, 4.30, 1.80, 0.70, 0.00, 0.00],\n",
    "        [0.00, 0.00, 0.00, 0.00, 0.00, 0.00, 11.2, 0.70, 1.40],\n",
    "        [2.20, 1.80, 0.70, 0.00, 0.00, 9.00, 0.00, 0.00, 0.00],\n",
    "        [2.20, 1.80, 4.70, 6.50, 4.30, 1.80, 0.70, 0.00, 0.00],\n",
    "        [0.00, 0.00, 0.00, 0.00, 0.00, 0.00, 0.00, 0.70, 1.40],\n",
    "        [2.20, 1.80, 0.70, 0.00, 0.00, 0.00, 0.00, 0.00, 0.00],\n",
    "        [2.20, 1.80, 4.70, 8.50, 4.30, 1.80, 0.70, 0.00, 0.00]]\n"
   ]
  },
  {
   "cell_type": "code",
   "execution_count": 33,
   "metadata": {},
   "outputs": [],
   "source": [
    "initial = (0, 0)\n",
    "grid =  [[0.00, 0.00, 0.00, 0.00, 0.00, 0.00, 0.00, 0.00, 0.00],\n",
    "        [0.00, 0.00, 0.00, 0.00, 0.00, 0.00, 0.00, 0.00, 0.00],\n",
    "        [0.00, 0.00, 0.00, 0.40, 0.40, 0.00, 0.00, 0.00, 0.00],\n",
    "        [0.00, 0.00, 0.00, 0.00, 0.00, 0.00, 0.00, 0.70, 1.40],\n",
    "        [2.20, 1.80, 0.70, 0.00, 0.00, 0.00, 0.00, 0.00, 0.00],\n",
    "        [2.20, 1.80, 4.70, 6.50, 4.30, 1.80, 0.70, 0.00, 0.00],\n",
    "        [0.00, 0.00, 0.00, 0.00, 0.00, 0.00, 11.2, 0.70, 1.40],\n",
    "        [2.20, 1.80, 0.70, 0.00, 0.00, 9.00, 0.00, 0.00, 0.00],\n",
    "        [2.20, 1.80, 4.70, 6.50, 4.30, 1.80, 0.70, 0.00, 0.00],\n",
    "        [0.00, 0.00, 0.00, 0.00, 0.00, 0.00, 0.00, 0.70, 1.40],\n",
    "        [2.20, 1.80, 0.70, 0.00, 0.00, 0.00, 0.00, 0.00, 0.00],\n",
    "        [2.20, 1.80, 4.70, 8.50, 4.30, 1.80, 0.70, 0.00, 0.00]]\n",
    "grid2 = [[5.00, -1.00, 3.00, 1.00, 3.00, 4.00, -4.00],\n",
    "        [4.00, -1.00, -4.00, -2.00,3.00, -2.00, 2.00],\n",
    "        [-2.00, 2.00, 4.00, 12.20, 8.40, 5.00, -1.00],\n",
    "        [-6.00, -2.00, -3.00,2.00, 1.00, 2.00, 3.00],\n",
    "        [2.20, 1.80, 0.70, 0.00, 0.00, 5.00, 1.00],\n",
    "        [2.20, 1.80, 4.70, 6.50, 4.30, 1.80, 0.70],\n",
    "        [-4.00, 2.00, 15.00, -2.00, 7.00, 2.00, 11.2],\n",
    "        [2.20, 1.80, 0.70, 1.00, -3.00, 12.00, -3.00],\n",
    "        [2.20, 1.80, 4.70, 13.50, 4.30, 1.80, 0.70]]"
   ]
  },
  {
   "cell_type": "code",
   "execution_count": 34,
   "metadata": {},
   "outputs": [],
   "source": [
    "problem = PeakFindingProblem(initial, grid, directions4)\n",
    "problem2 = PeakFindingProblem(initial, grid2, directions4)"
   ]
  },
  {
   "cell_type": "code",
   "execution_count": 35,
   "metadata": {},
   "outputs": [
    {
     "name": "stdout",
     "output_type": "stream",
     "text": [
      "39.87 %\n",
      "11.2\n"
     ]
    }
   ],
   "source": [
    "sumaT=0;\n",
    "optMejor=0.0\n",
    "for x in range (100):\n",
    "    solutions = [problem.value(simulated_annealing(problem)) for i in range(100)]\n",
    "    count=0\n",
    "    for i in range(100):\n",
    "        if solutions[i]>0.0:\n",
    "            count+=1\n",
    "    if optMejor <max(solutions):\n",
    "        optMejor= max(solutions)\n",
    "    sumaT+=count\n",
    "print(sumaT/100, \"%\")\n",
    "print(optMejor)"
   ]
  },
  {
   "cell_type": "code",
   "execution_count": 36,
   "metadata": {},
   "outputs": [
    {
     "name": "stdout",
     "output_type": "stream",
     "text": [
      "30.46 %\n",
      "15.0\n"
     ]
    }
   ],
   "source": [
    "sumaT=0;\n",
    "optMejor=0.0\n",
    "for x in range (100):\n",
    "    solutions = [problem2.value(simulated_annealing(problem2)) for i in range(100)]\n",
    "    count=0\n",
    "    for i in range(100):\n",
    "        if solutions[i]>=5.0:\n",
    "            count+=1\n",
    "    if optMejor<max(solutions):\n",
    "        optMejor= max(solutions)\n",
    "    sumaT+=count\n",
    "print(sumaT/100, \"%\")\n",
    "print(optMejor)"
   ]
  },
  {
   "cell_type": "code",
   "execution_count": 37,
   "metadata": {},
   "outputs": [
    {
     "data": {
      "text/plain": [
       "0.0"
      ]
     },
     "execution_count": 37,
     "metadata": {},
     "output_type": "execute_result"
    }
   ],
   "source": [
    "solution = problem.value(hill_climbing(problem))\n",
    "solution"
   ]
  },
  {
   "cell_type": "code",
   "execution_count": 38,
   "metadata": {},
   "outputs": [
    {
     "data": {
      "text/plain": [
       "5.0"
      ]
     },
     "execution_count": 38,
     "metadata": {},
     "output_type": "execute_result"
    }
   ],
   "source": [
    "solution = problem2.value(hill_climbing(problem2))\n",
    "solution"
   ]
  },
  {
   "cell_type": "markdown",
   "metadata": {},
   "source": [
    "En este caso, el algoritmo de escalada genera siempre los mismos vecinos, por lo que siempre devuelve el mismo resultado. En la rejilla 1 da 0 y en la rejilla 2 da 5."
   ]
  },
  {
   "cell_type": "markdown",
   "metadata": {
    "collapsed": true
   },
   "source": [
    "##### Rejilla1 \n",
    "La media aproximada de veces que se obtiene una solución mejor en el enfriamiento simulado que en el de escalada es del 40% (aproximadamente). Sin embargo, en este ejemplo, el enfriamiento simulado nunca es peor que la escalada , asi qué en un 60% (aproximadamente) obtiene la misma solución. En otras rejillas, puede darse el caso de que el enfriamiento simulado sea peor, pero con una probabilidad bajisima."
   ]
  },
  {
   "cell_type": "markdown",
   "metadata": {},
   "source": [
    "##### Rejilla2\n",
    "En esta rejilla el algoritmo de enfriamiento empeora bastante su rendimiento con respecto al de escalada, pues tan solo en un 30% (aproximadamente) es igual o superior que el de escalada. Sin embargo, en ciertas ejecuciones sí alcanza el máximo global, mientras que en todas las probadas con el algoritmo de escalada, esto nunca se da (siempre obtenemos 5)."
   ]
  },
  {
   "cell_type": "markdown",
   "metadata": {},
   "source": [
    "#### OBSERVACIONES\n",
    "Como en el enfriamiento simulado se permite continuar el desarrollo a partir de un vecino peor, es posible evitar los óptimos locales y las mesetas que estancaban al algoritmo de escalada. Así pues, repitiendo una serie de veces el algoritmo, se suele encontrar el óptimo global. Dicha situación es más complicada que se de en el algoritmo de escalada. Esto se pone de manifiesto en los dos ejemplos expuestos anteriormente. "
   ]
  },
  {
   "cell_type": "markdown",
   "metadata": {},
   "source": [
    "## Parte 3. Algoritmos genéticos\n"
   ]
  },
  {
   "cell_type": "markdown",
   "metadata": {},
   "source": [
    "Se define una clase ProblemaGenetico que incluye los elementos necesarios para la representación de un problema de optimización que se va a resolver con un algoritmo genético. Los elementos son los que hemos visto en clase:\n",
    "\n",
    " - genes: lista de genes usados en el genotipo de los estados.\n",
    " - longitud_individuos: longitud de los cromosomas\n",
    " - decodifica: función de obtiene el fenotipo a partir del genotipo.\n",
    " - fitness: función de valoración.\n",
    " - muta: función de mutación de un cromosoma \n",
    " - cruza: función de cruce de un par de cromosomas"
   ]
  },
  {
   "cell_type": "code",
   "execution_count": 2,
   "metadata": {},
   "outputs": [],
   "source": [
    "import random"
   ]
  },
  {
   "cell_type": "code",
   "execution_count": 3,
   "metadata": {},
   "outputs": [],
   "source": [
    "class ProblemaGenetico(object):\n",
    "        def __init__(self, genes, fun_dec, fun_muta, fun_cruza, fun_fitness, longitud_individuos):\n",
    "            self.genes = genes\n",
    "            self.fun_dec = fun_dec\n",
    "            self.fun_cruza = fun_cruza\n",
    "            self.fun_muta = fun_muta\n",
    "            self.fun_fitness = fun_fitness\n",
    "            self.longitud_individuos = longitud_individuos\n",
    "            \"\"\"Constructor de la clase\"\"\"\n",
    "                \n",
    "        def decodifica(self, genotipo):\n",
    "            \"\"\"Devuelve el fenotipo a partir del genotipo\"\"\"\n",
    "            fenotipo = self.fun_dec(genotipo)\n",
    "            return fenotipo\n",
    "        def muta(self, cromosoma,prob):\n",
    "            \"\"\"Devuelve el cromosoma mutado\"\"\"   \n",
    "            mutante = self.fun_muta(cromosoma,prob)\n",
    "            return mutante\n",
    "        def cruza(self, cromosoma1, cromosoma2):         \n",
    "            \"\"\"Devuelve el cruce de un par de cromosomas\"\"\"\n",
    "            cruce = self.fun_cruza(cromosoma1,cromosoma2)\n",
    "            return cruce \n",
    "        def fitness(self, cromosoma):    \n",
    "            \"\"\"Función de valoración\"\"\"\n",
    "            valoracion = self.fun_fitness(cromosoma)\n",
    "            return valoracion"
   ]
  },
  {
   "cell_type": "markdown",
   "metadata": {},
   "source": [
    "En primer lugar vamos a definir una instancia de la clase anterior correspondiente al problema de optimizar (maximizar o minimizar) la función cuadrado x^2 en el conjunto de los números naturales menores que 2^{10}.\n",
    "Se usa este ejemplo (del que sabemos la solución) para ver todos los elementos y poder observar el comportamiento. \n"
   ]
  },
  {
   "cell_type": "code",
   "execution_count": 16,
   "metadata": {},
   "outputs": [],
   "source": [
    "# Será necesaria la siguiente función que interpreta una lista de 0's y 1's como un número natural:  \n",
    "# La siguiente función que interpreta una lista de 0's y 1's como\n",
    "# un número natural:  \n",
    "\n",
    "def binario_a_decimal(x):\n",
    "    return sum(b*(2**i) for (i,b) in enumerate(x)) "
   ]
  },
  {
   "cell_type": "code",
   "execution_count": 42,
   "metadata": {},
   "outputs": [
    {
     "data": {
      "text/plain": [
       "[(0, 1), (1, 0), (2, 0)]"
      ]
     },
     "execution_count": 42,
     "metadata": {},
     "output_type": "execute_result"
    }
   ],
   "source": [
    "list(enumerate([1, 0, 0]))"
   ]
  },
  {
   "cell_type": "code",
   "execution_count": 17,
   "metadata": {},
   "outputs": [],
   "source": [
    "# En primer luegar usaremos la clase anterior para representar el problema de optimizar (maximizar o minimizar)\n",
    "# la función cuadrado en el conjunto de los números naturales menores que\n",
    "# 2^{10}.\n",
    "\n",
    "# Tenemos que definir funciones de cruce, mutación y fitness para este problema.\n",
    "\n",
    "def fun_cruzar(cromosoma1, cromosoma2):\n",
    "    \"\"\"Cruza los cromosomas por la mitad\"\"\"\n",
    "    l1 = len(cromosoma1)\n",
    "    l2 = len(cromosoma2)\n",
    "    cruce1 = cromosoma1[0:l1//2]+cromosoma2[l1//2:l2]\n",
    "    cruce2 = cromosoma2[0:l2//2]+cromosoma1[l2//2:l1]\n",
    "    return [cruce1,cruce2]\n",
    "\n",
    "def fun_mutar(cromosoma,prob):\n",
    "    \"\"\"Elige un elemento al azar del cromosoma y lo modifica con una probabilidad igual a prob\"\"\"\n",
    "    l = len(cromosoma)\n",
    "    p = random.randint(0,l-1)\n",
    "    if prob > random.uniform(0,1):\n",
    "        cromosoma[p] =  (cromosoma[p]+1)%2\n",
    "    return cromosoma\n",
    "\n",
    "def fun_fitness_cuad(cromosoma):\n",
    "    \"\"\"Función de valoración que eleva al cuadrado el número recibido en binario\"\"\"\n",
    "    n = binario_a_decimal(cromosoma)**2\n",
    "    return n\n",
    "\n",
    "cuadrados = ProblemaGenetico([0,1],binario_a_decimal,fun_mutar, fun_cruzar, fun_fitness_cuad,10)"
   ]
  },
  {
   "cell_type": "markdown",
   "metadata": {},
   "source": [
    "Una vez definida la instancia cuadrados que representa el problema genético, probar alguna de las funciones definidas en la clase anterior, para esta instancia concreta. Por ejemplo:"
   ]
  },
  {
   "cell_type": "code",
   "execution_count": 44,
   "metadata": {},
   "outputs": [
    {
     "data": {
      "text/plain": [
       "1329"
      ]
     },
     "execution_count": 44,
     "metadata": {},
     "output_type": "execute_result"
    }
   ],
   "source": [
    "cuadrados.decodifica([1,0,0,0,1,1,0,0,1,0,1])\n",
    "# Salida esperada: 1329"
   ]
  },
  {
   "cell_type": "code",
   "execution_count": 45,
   "metadata": {},
   "outputs": [
    {
     "data": {
      "text/plain": [
       "1766241"
      ]
     },
     "execution_count": 45,
     "metadata": {},
     "output_type": "execute_result"
    }
   ],
   "source": [
    "cuadrados.fitness([1,0,0,0,1,1,0,0,1,0,1])\n",
    "# Salida esperada: 1766241"
   ]
  },
  {
   "cell_type": "code",
   "execution_count": 46,
   "metadata": {},
   "outputs": [
    {
     "data": {
      "text/plain": [
       "[1, 0, 0, 0, 1, 1, 0, 0, 1, 0, 1]"
      ]
     },
     "execution_count": 46,
     "metadata": {},
     "output_type": "execute_result"
    }
   ],
   "source": [
    "cuadrados.muta([1,0,0,0,1,1,0,0,1,0,1],0.1)\n",
    "# Posible salida: [1, 0, 0, 0, 1, 1, 0, 0, 1, 0, 1]"
   ]
  },
  {
   "cell_type": "code",
   "execution_count": 47,
   "metadata": {},
   "outputs": [
    {
     "data": {
      "text/plain": [
       "[1, 0, 0, 0, 1, 1, 0, 0, 1, 0, 1]"
      ]
     },
     "execution_count": 47,
     "metadata": {},
     "output_type": "execute_result"
    }
   ],
   "source": [
    "cuadrados.muta([1,0,0,0,1,1,0,0,1,0,1],0.1)\n",
    "# Posible salida: [0, 0, 0, 0, 1, 1, 0, 0, 1, 0, 1]"
   ]
  },
  {
   "cell_type": "code",
   "execution_count": 48,
   "metadata": {},
   "outputs": [
    {
     "data": {
      "text/plain": [
       "[[1, 0, 0, 0, 1, 0, 0, 1, 1, 1], [0, 1, 1, 0, 1, 1, 0, 0, 1, 0, 1]]"
      ]
     },
     "execution_count": 48,
     "metadata": {},
     "output_type": "execute_result"
    }
   ],
   "source": [
    "cuadrados.cruza([1,0,0,0,1,1,0,0,1,0,1],[0,1,1,0,1,0,0,1,1,1])\n",
    "# Posible salida: [[1, 0, 0, 0, 1, 0, 0, 1, 1, 1], [0, 1, 1, 0, 1, 1, 0, 0, 1, 0, 1]]"
   ]
  },
  {
   "cell_type": "markdown",
   "metadata": {},
   "source": [
    "### Ejercicio 3\n",
    "\n",
    "   - Definir una función poblacion_inicial(problema_genetico,tamaño), para definir una población inicial de un tamaño dado, para una instancia dada de la clase anterior ProblemaGenetico\n",
    "\n",
    "sugerencia: usar random.choice\n",
    "\n",
    "   - Definir una función de cruce que recibe una instancia de Problema_Genetico y una población de padres (supondremos que hay un número par de padres), obtiene la población resultante de cruzarlos de dos en dos (en el orden en que aparecen)\n",
    "\n",
    "cruza_padres(problema_genetico,padres)\n",
    "\n",
    "   - Definir la función de mutación que recibe una instancia de Problema_Genetico, una población y una probabilidad de mutación, obtiene la población resultante de aplicar operaciones de mutación a cada individuo llamando a la función muta definida para el problema genético.\n",
    "   \n",
    "muta_individuos(problema_genetico, poblacion, prob)"
   ]
  },
  {
   "cell_type": "code",
   "execution_count": null,
   "metadata": {},
   "outputs": [],
   "source": [
    "def poblacion_inicial(problema_genetico, size):\n",
    "    l = []\n",
    "    for i in range(size):\n",
    "        ind = []\n",
    "        for i in range(problema_genetico.longitud_individuos):\n",
    "            ind.append(random.choice(problema_genetico.genes))\n",
    "        l.append(ind) \n",
    "    return l"
   ]
  },
  {
   "cell_type": "code",
   "execution_count": 50,
   "metadata": {},
   "outputs": [
    {
     "data": {
      "text/plain": [
       "[[1, 1, 0, 1, 1, 0, 0, 0, 1, 1],\n",
       " [1, 0, 0, 1, 1, 1, 1, 1, 1, 1],\n",
       " [1, 0, 0, 0, 0, 0, 0, 0, 0, 1],\n",
       " [1, 1, 0, 0, 1, 0, 1, 0, 1, 0],\n",
       " [0, 0, 1, 0, 1, 0, 1, 0, 1, 1],\n",
       " [0, 1, 1, 0, 0, 0, 0, 0, 0, 1],\n",
       " [1, 1, 1, 0, 1, 0, 1, 0, 1, 1],\n",
       " [1, 1, 0, 0, 1, 1, 0, 1, 1, 0],\n",
       " [0, 0, 1, 1, 1, 0, 0, 1, 0, 0],\n",
       " [0, 1, 1, 0, 1, 0, 0, 1, 1, 1]]"
      ]
     },
     "execution_count": 50,
     "metadata": {},
     "output_type": "execute_result"
    }
   ],
   "source": [
    "poblacion_inicial(cuadrados,10)"
   ]
  },
  {
   "cell_type": "code",
   "execution_count": 9,
   "metadata": {},
   "outputs": [],
   "source": [
    "def cruza_padres(problema_genetico,padres):\n",
    "    l = []\n",
    "    i = 0\n",
    "    while i < len(padres)/2:\n",
    "        u = fun_cruzar(padres[2*i], padres[2*i+1])\n",
    "        l.append(u[0])\n",
    "        l.append(u[1])\n",
    "        i += 1\n",
    "    return l"
   ]
  },
  {
   "cell_type": "code",
   "execution_count": 52,
   "metadata": {},
   "outputs": [
    {
     "data": {
      "text/plain": [
       "[[1, 1, 0, 1, 0, 0, 1, 0, 1, 1],\n",
       " [0, 1, 0, 1, 0, 1, 0, 0, 0, 1],\n",
       " [0, 0, 1, 0, 0, 1, 1, 1, 1, 0],\n",
       " [0, 0, 1, 1, 1, 0, 1, 1, 1, 0],\n",
       " [0, 1, 1, 0, 0, 0, 1, 1, 0, 1],\n",
       " [1, 0, 1, 1, 1, 0, 0, 0, 0, 0]]"
      ]
     },
     "execution_count": 52,
     "metadata": {},
     "output_type": "execute_result"
    }
   ],
   "source": [
    "p1 = [[1, 1, 0, 1, 0, 1, 0, 0, 0, 1],\n",
    "      [0, 1, 0, 1, 0, 0, 1, 0, 1, 1],\n",
    "      [0, 0, 1, 0, 0, 0, 1, 1, 1, 0],\n",
    "      [0, 0, 1, 1, 1, 1, 1, 1, 1, 0],\n",
    "      [0, 1, 1, 0, 0, 0, 0, 0, 0, 0],\n",
    "      [1, 0, 1, 1, 1, 0, 1, 1, 0, 1]]\n",
    "\n",
    "cruza_padres(cuadrados,p1)\n",
    "# Posible salida\n",
    "# [[1, 1, 0, 1, 0, 0, 1, 0, 1, 1],\n",
    "#  [0, 1, 0, 1, 0, 1, 0, 0, 0, 1],\n",
    "#  [0, 0, 1, 1, 1, 1, 1, 1, 1, 0],\n",
    "#  [0, 0, 1, 0, 0, 0, 1, 1, 1, 0],\n",
    "#  [0, 1, 1, 1, 1, 0, 1, 1, 0, 1],\n",
    "#  [1, 0, 1, 0, 0, 0, 0, 0, 0, 0]]"
   ]
  },
  {
   "cell_type": "code",
   "execution_count": 10,
   "metadata": {},
   "outputs": [],
   "source": [
    "def muta_individuos(problema_genetico, poblacion, prob):\n",
    "    for i in range(len(poblacion)):\n",
    "        poblacion[i] = problema_genetico.muta(poblacion[i], prob)\n",
    "    return poblacion"
   ]
  },
  {
   "cell_type": "code",
   "execution_count": 54,
   "metadata": {
    "scrolled": true
   },
   "outputs": [
    {
     "data": {
      "text/plain": [
       "[[1, 1, 0, 1, 0, 1, 0, 0, 0, 1],\n",
       " [0, 1, 0, 0, 0, 0, 1, 0, 1, 1],\n",
       " [0, 0, 1, 0, 0, 1, 1, 1, 1, 0],\n",
       " [0, 0, 0, 1, 1, 1, 1, 1, 1, 0],\n",
       " [0, 0, 1, 0, 0, 0, 0, 0, 0, 0],\n",
       " [0, 0, 1, 1, 1, 0, 1, 1, 0, 1]]"
      ]
     },
     "execution_count": 54,
     "metadata": {},
     "output_type": "execute_result"
    }
   ],
   "source": [
    "muta_individuos(cuadrados, p1, 0.5)\n",
    "# Posible salida:\n",
    "#  [[1, 1, 0, 1, 0, 1, 0, 0, 0, 1],\n",
    "#   [0, 1, 0, 1, 0, 0, 1, 0, 0, 1],\n",
    "#   [0, 0, 1, 0, 0, 0, 1, 0, 1, 0],\n",
    "#   [0, 0, 1, 1, 1, 1, 1, 1, 1, 0],\n",
    "#   [0, 1, 0, 0, 0, 0, 0, 0, 0, 0],\n",
    "#   [1, 0, 1, 1, 1, 0, 1, 1, 0, 1]]"
   ]
  },
  {
   "cell_type": "code",
   "execution_count": 55,
   "metadata": {},
   "outputs": [],
   "source": [
    "p1 = [[1, 1, 0, 1, 0, 1, 0, 0, 0, 1],\n",
    "      [0, 1, 0, 1, 0, 0, 1, 0, 1, 1],\n",
    "      [0, 0, 1, 0, 0, 0, 1, 1, 1, 0],\n",
    "      [0, 0, 1, 1, 1, 1, 1, 1, 1, 0],\n",
    "      [0, 1, 1, 0, 0, 0, 0, 0, 0, 0],\n",
    "      [1, 0, 1, 1, 1, 0, 1, 1, 0, 1]]"
   ]
  },
  {
   "cell_type": "code",
   "execution_count": 56,
   "metadata": {},
   "outputs": [
    {
     "data": {
      "text/plain": [
       "[[1, 1, 0, 1, 0, 1, 0, 0, 0, 1],\n",
       " [1, 1, 0, 1, 0, 0, 1, 0, 1, 1],\n",
       " [0, 0, 1, 0, 0, 0, 1, 1, 1, 1],\n",
       " [0, 0, 1, 1, 1, 0, 1, 1, 1, 0],\n",
       " [0, 1, 1, 0, 0, 0, 0, 0, 1, 0],\n",
       " [1, 0, 1, 1, 1, 0, 1, 1, 0, 1]]"
      ]
     },
     "execution_count": 56,
     "metadata": {},
     "output_type": "execute_result"
    }
   ],
   "source": [
    "muta_individuos(cuadrados, p1, 0.5)"
   ]
  },
  {
   "cell_type": "markdown",
   "metadata": {},
   "source": [
    "### Ejercicio 4\n",
    "\n",
    "Se pide definir una función de selección mediante torneo de n individuos de una población.  \n",
    "La función recibe como entrada:\n",
    " - una instancia de la clase ProblemaGenetico\n",
    " - una población\n",
    " - el número n de individuos que vamos a seleccionar\n",
    " - el número k de participantes en el torneo\n",
    " - un valor opt que puede ser o la función max o la función min (dependiendo de si el problema es de maximización o de minimización, resp.).\n",
    "\n",
    "seleccion\\_por\\_torneo(problema_genetico,poblacion,n,k,opt) \n",
    "\n",
    "INDICACIÓN: Usar random.sample para seleccionar k elementos de una secuencia. \n",
    "Por ejemplo, random.sample(population=[2,5,7,8,9], k=3) devuelve [7,5,8]. "
   ]
  },
  {
   "cell_type": "code",
   "execution_count": 11,
   "metadata": {},
   "outputs": [],
   "source": [
    "def seleccion_por_torneo(problema_genetico, poblacion, n, k, opt):\n",
    "    \"\"\"Selección por torneo de n individuos de una población. Siendo k el nº de participantes\n",
    "        y opt la función max o min.\"\"\"\n",
    "    seleccionados = []\n",
    "    for i in range(n):\n",
    "        participantes = random.sample(poblacion,k)\n",
    "        seleccionado = opt(participantes, key=problema_genetico.fitness)\n",
    "        seleccionados.append(seleccionado)\n",
    "    return seleccionados  "
   ]
  },
  {
   "cell_type": "code",
   "execution_count": 58,
   "metadata": {},
   "outputs": [
    {
     "data": {
      "text/plain": [
       "[[1, 0, 1, 0, 1, 1, 1, 0, 0, 1],\n",
       " [1, 0, 1, 0, 1, 1, 1, 0, 0, 1],\n",
       " [1, 0, 1, 0, 1, 0, 1, 1, 1, 0]]"
      ]
     },
     "execution_count": 58,
     "metadata": {},
     "output_type": "execute_result"
    }
   ],
   "source": [
    "#Ejemplo\n",
    "seleccion_por_torneo(cuadrados, poblacion_inicial(cuadrados,8),3,6,max)\n",
    "# Posible salida: [[1, 1, 1, 1, 1, 0, 0, 0, 1, 1], [1, 0, 0, 1, 1, 1, 0, 1, 0, 1], [1, 1, 1, 1, 0, 1, 1, 1, 0, 1]]\n"
   ]
  },
  {
   "cell_type": "code",
   "execution_count": 59,
   "metadata": {},
   "outputs": [
    {
     "data": {
      "text/plain": [
       "[[1, 0, 0, 0, 0, 0, 0, 0, 0, 0],\n",
       " [1, 0, 0, 0, 0, 0, 0, 0, 0, 0],\n",
       " [1, 0, 0, 0, 0, 0, 0, 0, 0, 0]]"
      ]
     },
     "execution_count": 59,
     "metadata": {},
     "output_type": "execute_result"
    }
   ],
   "source": [
    "seleccion_por_torneo(cuadrados, poblacion_inicial(cuadrados,8),3,6,min)\n",
    "# [[0, 0, 1, 1, 0, 1, 1, 0, 0, 0], [1, 0, 1, 0, 1, 1, 1, 0, 0, 0], [1, 1, 0, 1, 0, 0, 1, 0, 1, 0]]"
   ]
  },
  {
   "cell_type": "code",
   "execution_count": 12,
   "metadata": {},
   "outputs": [],
   "source": [
    "# La siguiente función implementa una posibilidad para el algoritmo genético completo: \n",
    "# inicializa t = 0 \n",
    "# Generar y evaluar la Población P(t)\n",
    "# Mientras no hemos llegado al número de generaciones fijado:  t < nGen\n",
    "#    P1 = Selección por torneo de (1-size)·p individuos de P(t)\n",
    "#    P2 = Selección por torneo de (size·p) individuos de P(t)\n",
    "#    P3 = Aplicar cruce en la población P2\n",
    "#    P4 = Union de P1 y P3\n",
    "#    P(t+1) := Aplicar mutación P4 \n",
    "#    Evalua la población P(t+1) \n",
    "#    t:= t+1\n",
    "        \n",
    "# Sus argumentos son:\n",
    "# problema_genetico: una instancia de la clase ProblemaGenetico con la representación adecuada del problema de optimización \n",
    "# que se quiere resolver.\n",
    "# k: número de participantes en los torneos de selección.\n",
    "# opt: max ó min, dependiendo si el problema es de maximización o de minimización. \n",
    "# nGen: número de generaciones (que se usa como condición de terminación)\n",
    "# size: número de individuos en cada generación\n",
    "# prop_cruce: proporción del total de la población que serán padres. \n",
    "# prob_mutación: probabilidad de realizar una mutación de un gen.\n",
    "\n",
    "def algoritmo_genetico(problema_genetico, k, opt, ngen, size, prop_cruces, prob_mutar):\n",
    "    poblacion= poblacion_inicial(problema_genetico, size)\n",
    "    n_padres = round(size*prop_cruces)\n",
    "    n_padres = int (n_padres if n_padres%2==0 else n_padres-1)\n",
    "    n_directos = size-n_padres\n",
    "    for _ in range(ngen):\n",
    "        poblacion = nueva_generacion(problema_genetico, k, opt, poblacion, n_padres, n_directos, prob_mutar)\n",
    "        \n",
    "\n",
    "    mejor_cr = opt(poblacion, key=problema_genetico.fitness)\n",
    "    mejor = problema_genetico.decodifica(mejor_cr)\n",
    "    return (mejor, problema_genetico.fitness(mejor_cr)) \n"
   ]
  },
  {
   "cell_type": "markdown",
   "metadata": {},
   "source": [
    "Necesitarás definir la función auxiliar nueva_generacion(problema_genetico,poblacion,n_padres,n_directos,prob_mutar) que dada una población calcula la siguiente generación."
   ]
  },
  {
   "cell_type": "code",
   "execution_count": 13,
   "metadata": {},
   "outputs": [],
   "source": [
    "#Definir la función nueva_generacion\n",
    "\n",
    "def nueva_generacion(problema_genetico, k,opt, poblacion, n_padres, n_directos, prob_mutar):\n",
    "    padres1 = seleccion_por_torneo(problema_genetico, poblacion, n_directos, k,opt)\n",
    "    padres2 = seleccion_por_torneo(problema_genetico, poblacion, n_padres , k, opt)\n",
    "    cruces =  cruza_padres(problema_genetico, padres2)\n",
    "    generacion = padres1+cruces\n",
    "    resultado_mutaciones = muta_individuos(problema_genetico, generacion, prob_mutar)\n",
    "    return resultado_mutaciones"
   ]
  },
  {
   "cell_type": "markdown",
   "metadata": {},
   "source": [
    "### Ejercicio 5.  Ejecutar el algoritmo genético anterior, para resolver el problema anterior (tanto en minimización como en maximización).  \n",
    "\n",
    "Hacer una valoración de resultados y comentarios sobre el comportamiento del algoritmo. \n",
    "En la resolución del problema hay que tener en cuenta que el algoritmo genético devuelve un par con el mejor fenotipo encontrado y su valoración."
   ]
  },
  {
   "cell_type": "code",
   "execution_count": 16,
   "metadata": {},
   "outputs": [
    {
     "data": {
      "text/plain": [
       "54"
      ]
     },
     "execution_count": 16,
     "metadata": {},
     "output_type": "execute_result"
    }
   ],
   "source": [
    "cont = 0\n",
    "for _ in range (100):\n",
    "    x = algoritmo_genetico(cuadrados,3,min,20,10,0.7,0.1)\n",
    "    if x == (0,0):\n",
    "        cont += 1\n",
    "cont\n",
    "# Salida esperada: (0, 0)"
   ]
  },
  {
   "cell_type": "code",
   "execution_count": 17,
   "metadata": {},
   "outputs": [
    {
     "data": {
      "text/plain": [
       "55"
      ]
     },
     "execution_count": 17,
     "metadata": {},
     "output_type": "execute_result"
    }
   ],
   "source": [
    "cont = 0\n",
    "for _ in range (100):\n",
    "    x = algoritmo_genetico(cuadrados,3,max,20,10,0.7,0.1)\n",
    "    if x == (1023, 1046529):\n",
    "        cont += 1\n",
    "cont\n",
    "# Salida esperada: (1023, 1046529)"
   ]
  },
  {
   "cell_type": "markdown",
   "metadata": {},
   "source": [
    "### OBSERVACIONES\n",
    "En cuanto al funcionamiento interno:\n",
    "1. Método de selección: Se ha elegido la selección por torneo, que combina lo mejor del método elitista (se escogen los mejores individuos) y del método de la ruleta (interviene la aleatoriedad), que permite aumentar el árbol de soluciones explorado.\n",
    "2. Mutación: Se introduce la mutación de la población con una pequeña probabilidad (0.1), para obtener soluciones más variadas, que al final pueden llegar a ser las mejores. El elitismo puro y duro no siempre acaba encontrando la solución óptima; y la variedad puede ayudar a llegar a ella.\n",
    "3. Cruce: El algoritmo de cruce escogido es de tipo destructivo, pues los descendientes de los cruces siempre van a estar en la nueva generación, independientemente de su fitness (se tiene en cuenta en la selección de los padres). Sin embargo, algunos individuos de la generación antigua también pasan a la nueva (son los padres1). Con esto se pretende que algunos cromosomas eficaces no se pierdan por el camino de los cruces y las mutaciones. Además, es un cruce de un punto (en la mitad de los cromosomas).\n",
    "\n",
    "En cuanto a los resultados:\n",
    "1. Vemos que, de media, nos sale 50-60% (aprox.) de veces en las que encontramos la solución óptima. Esto está bien pues, como ya sabemos, el algortimo genético no garantiza que se llegue a esta solución óptima. \n",
    "2. La causa de que muchas veces no alcancemos la solución óptima se debe a la selección por torneo. Aunque elijamos los mejores participantes en cada torneo, la elección de los participantes es totalmente aleatoria y esto puede causar que los participantes no sean \"muy buenos\" pudiendo hacer que las próximas generaciones no sean mucho mejores (incluso podrían ser peores, aunque en este caso es raro pues las nuevas generaciones tendrán más individuos que la anterior y la mitad de estos serán idénticos a algunos de la generación anterior). Además, también influye la mutación (que es buena para el problema pues hace que la población y nuevas generaciones tengan variedad de individuos) que hace que unos descendientes que hayan sido buenos muten haciendo que el resultado sea una incógnita (el hijo mutado podría tener un fitness similares o mejor, pero también podría ser peor)"
   ]
  },
  {
   "cell_type": "markdown",
   "metadata": {},
   "source": [
    "##  El problema de la mochila "
   ]
  },
  {
   "cell_type": "markdown",
   "metadata": {},
   "source": [
    "Se plantea el típico problema de la mochila en el que dados n objetos de pesos conocidos pi y valor vi (i=1,...,n) hay que elegir cuáles se meten en una mochila que soporta un peso P máximo. La selección debe hacerse de forma que se máximice el valor de los objetos introducidos sin superar el peso máximo."
   ]
  },
  {
   "cell_type": "markdown",
   "metadata": {},
   "source": [
    "### Ejercicio 6\n",
    "Se pide definir la representación del problema de la mochila usando genes [0,1] y longitud de los individuos n.\n",
    "\n",
    "Los valores 1 ó 0 representan, respectivamente, si el objeto se introduce o no en la mochila Tomados de izquerda a derecha, a partir del primero que no cabe, se consideran  todos fuera de la mochila,independientemente del gen en su posición. De esta manera, todos los individuos representan candidatos válidos.\n",
    "\n",
    "El numero de objetos n determina la longitud de los individuos de la población.\n",
    "En primer lugar es necesario definir una función de decodificación de la mochila que recibe como entrada:\n",
    "* un cromosoma (en este caso, una lista de 0s y 1s, de longitud igual a n_objetos) \n",
    "* n: número total de objetos de la mochila\n",
    "* pesos: una lista con los pesos de los objetos\n",
    "* capacidad: peso máximo de la mochila.\n",
    "La función decodifica recibe (cromosoma, n, pesos, capacidad) y devuelve una lista de 0s y 1s que indique qué objetos están en la mochila y cuáles no (el objeto i está en la mochila si y sólo si en la posición i-ésima de la lista hay un 1). Esta lista se obtendrá a partir del cromosoma, pero teniendo en cuenta que a partir del primer objeto que no quepa, éste y los siguientes se consideran fuera de la mochila, independientemente del valor que haya en su correspondiente posición de cromosoma. "
   ]
  },
  {
   "cell_type": "code",
   "execution_count": 3,
   "metadata": {},
   "outputs": [],
   "source": [
    "class ProblemaGeneticoMochila(object):\n",
    "        def __init__(self, genes,fun_dec,fun_muta , fun_cruza, fun_fitness, longitud_individuos, pesos, valores, capacidad):\n",
    "            self.genes = genes\n",
    "            self.fun_dec = fun_dec\n",
    "            self.fun_cruza = fun_cruza\n",
    "            self.fun_muta = fun_muta\n",
    "            self.fun_fitness = fun_fitness\n",
    "            self.longitud_individuos = longitud_individuos\n",
    "            self.pesos=pesos\n",
    "            self.valores=valores\n",
    "            self.capacidad=capacidad\n",
    "            \"\"\"Constructor de la clase\"\"\"\n",
    "                \n",
    "        def decodifica(self, genotipo):\n",
    "            \"\"\"Devuelve el fenotipo a partir del genotipo\"\"\"\n",
    "            fenotipo = self.fun_dec(genotipo,self.longitud_individuos,self.pesos,self.capacidad)\n",
    "            return fenotipo\n",
    "        def muta(self, cromosoma,prob):\n",
    "            \"\"\"Devuelve el cromosoma mutado\"\"\"   \n",
    "            mutante = self.fun_muta(cromosoma,prob)\n",
    "            return mutante\n",
    "        def cruza(self, cromosoma1, cromosoma2):         \n",
    "            \"\"\"Devuelve el cruce de un par de cromosomas\"\"\"\n",
    "            cruce = self.fun_cruza(cromosoma1,cromosoma2)\n",
    "            return cruce \n",
    "        def fitness(self, cromosoma):    \n",
    "            \"\"\"Función de valoración\"\"\"\n",
    "            valoracion = self.fun_fitness(cromosoma,self.longitud_individuos,self.pesos,self.capacidad,self.valores)\n",
    "            return valoracion"
   ]
  },
  {
   "cell_type": "code",
   "execution_count": 4,
   "metadata": {},
   "outputs": [],
   "source": [
    "def decodifica_mochila(cromosoma, n, pesos, capacidad):\n",
    "    peso_en_mochila = 0\n",
    "    l = []\n",
    "    for i in range(n):\n",
    "        if cromosoma[i] == 1 and peso_en_mochila + pesos[i] <= capacidad:\n",
    "            l.append(1)\n",
    "            peso_en_mochila += pesos[i]\n",
    "        elif cromosoma[i] == 0 or peso_en_mochila + pesos[i] > capacidad:\n",
    "            l.append(0)\n",
    "    return l"
   ]
  },
  {
   "cell_type": "code",
   "execution_count": 20,
   "metadata": {},
   "outputs": [
    {
     "data": {
      "text/plain": [
       "[1, 1, 0, 0, 1]"
      ]
     },
     "execution_count": 20,
     "metadata": {},
     "output_type": "execute_result"
    }
   ],
   "source": [
    "decodifica_mochila([1,1,1,1,1], 5, [2,2,4,5,1], 5)"
   ]
  },
  {
   "cell_type": "markdown",
   "metadata": {},
   "source": [
    "Para definir la función de evaluación (fitness) necesitamos calcular el valor total de los objetos que están dentro de la mochila que representa el cromosoma según la codificación utilizada en la función anterior. \n",
    "\n",
    "Se pide la función fitness (cromosoma, n_objetos, pesos, capacidad, valores) donde los parámetros son los mismos que en la función anterior, y valores es la lista de los valores de cada objeto\n",
    "\n",
    "fitness(cromosoma, n_objetos, pesos, capacidad, valores)\n",
    "\n",
    "Ejemplo de uso:\n",
    "   fitness([1,1,1,1], 4, [2,3,4,5], 4, [7,1,4,5])\n",
    "   7"
   ]
  },
  {
   "cell_type": "code",
   "execution_count": 5,
   "metadata": {},
   "outputs": [],
   "source": [
    "def fitness_mochila(cromosoma, n_objetos, pesos, capacidad, valores):\n",
    "    valor = 0\n",
    "    cValido = decodifica_mochila(cromosoma,n_objetos,pesos,capacidad)\n",
    "    for i in range(n_objetos):\n",
    "        valor += (cValido[i]*valores[i])\n",
    "    return valor"
   ]
  },
  {
   "cell_type": "code",
   "execution_count": 22,
   "metadata": {},
   "outputs": [
    {
     "data": {
      "text/plain": [
       "7"
      ]
     },
     "execution_count": 22,
     "metadata": {},
     "output_type": "execute_result"
    }
   ],
   "source": [
    "fitness_mochila([1,1,1,1], 4, [2,3,4,5], 4, [7,1,4,5])"
   ]
  },
  {
   "cell_type": "markdown",
   "metadata": {},
   "source": [
    "Damos tres instancias concretas del problema de la mochila. Damos también sus soluciones optimas, para que se puedan comparar con los resultados obtenidos por el algoritmo genético:"
   ]
  },
  {
   "cell_type": "markdown",
   "metadata": {},
   "source": [
    "##### REPRESENTACIÓN\n",
    "Se reutilizan las funciones mutar, cruzar y selección por torneo del problema de maximizar x^2"
   ]
  },
  {
   "cell_type": "code",
   "execution_count": 23,
   "metadata": {},
   "outputs": [],
   "source": [
    "# Problema de la mochila 1:\n",
    "# 10 objetos, peso máximo 165\n",
    "pesos1 = [23,31,29,44,53,38,63,85,89,82]\n",
    "valores1 = [92,57,49,68,60,43,67,84,87,72]\n",
    "# Solución óptima= [1,1,1,1,0,1,0,0,0,0], con valor 309"
   ]
  },
  {
   "cell_type": "code",
   "execution_count": 24,
   "metadata": {},
   "outputs": [],
   "source": [
    "# Problema de la mochila 2:\n",
    "# 15 objetos, peso máximo 750\n",
    "\n",
    "pesos2 = [70,73,77,80,82,87,90,94,98,106,110,113,115,118,120]\n",
    "valores2 = [135,139,149,150,156,163,173,184,192,201,210,214,221,229,240]\n",
    "\n",
    "# Solución óptima= [1,0,1,0,1,0,1,1,1,0,0,0,0,1,1] con valor 1458"
   ]
  },
  {
   "cell_type": "code",
   "execution_count": 6,
   "metadata": {},
   "outputs": [],
   "source": [
    "# Problema de la mochila 3:\n",
    "# 24 objetos, peso máximo 6404180\n",
    "pesos3 = [382745,799601,909247,729069,467902, 44328,\n",
    "       34610,698150,823460,903959,853665,551830,610856,\n",
    "       670702,488960,951111,323046,446298,931161, 31385,496951,264724,224916,169684]\n",
    "valores3 = [825594,1677009,1676628,1523970, 943972,  97426,\n",
    "       69666,1296457,1679693,1902996,\n",
    "       1844992,1049289,1252836,1319836, 953277,2067538, 675367,\n",
    "       853655,1826027, 65731, 901489, 577243, 466257, 369261]\n",
    "\n",
    "# Solución óptima= [1,1,0,1,1,1,0,0,0,1,1,0,1,0,0,1,0,0,0,0,0,1,1,1] con valoración 13549094"
   ]
  },
  {
   "cell_type": "markdown",
   "metadata": {},
   "source": [
    "### Ejercicio 7\n",
    "\n",
    "Definir variables m1g, m2g y m3g, referenciando a instancias de Problema_Genetico que correspondan, respectivamente, a los problemas de la mochila anteriores. Resuelve los problemas y comentar los resultados obtenidos en cuanto a eficiencia y calidad de los resultados obtenidos."
   ]
  },
  {
   "cell_type": "markdown",
   "metadata": {},
   "source": [
    "Algunas de las salidas posibles variando los parámetros."
   ]
  },
  {
   "cell_type": "code",
   "execution_count": 26,
   "metadata": {},
   "outputs": [],
   "source": [
    "# >>> algoritmo_genetico_t(m1g,3,max,100,50,0.8,0.05)\n",
    "# ([1, 1, 1, 1, 0, 1, 0, 0, 0, 0], 309)\n",
    "\n",
    "# >>> algoritmo_genetico_t(m2g,3,max,100,50,0.8,0.05)\n",
    "# ([1, 1, 1, 0, 0, 0, 0, 1, 1, 0, 1, 1, 1, 0, 0], 1444)\n",
    "# >>> algoritmo_genetico_t(m2g,3,max,200,100,0.8,0.05)\n",
    "# ([0, 0, 1, 0, 1, 1, 1, 1, 1, 1, 0, 0, 1, 0, 0], 1439)\n",
    "# >>> algoritmo_genetico_t(m2g,3,max,200,100,0.8,0.05)\n",
    "# ([1, 0, 1, 0, 1, 0, 1, 1, 1, 0, 0, 0, 0, 1, 1], 1458)\n",
    "\n",
    "# >>> algoritmo_genetico_t(m3g,5,max,400,200,0.75,0.1)\n",
    "# ([1, 1, 0, 1, 0, 1, 1, 0, 1, 1, 1, 0, 1, 0, 0, 1, 0, 0, 0, 0, 0, 1, 0, 0], 13518963)\n",
    "# >>> algoritmo_genetico_t(m3g,4,max,600,200,0.75,0.1)\n",
    "# ([1, 1, 0, 1, 1, 1, 1, 0, 0, 1, 1, 0, 1, 0, 0, 1, 1, 0, 0, 1, 0, 1, 0, 0], 13524340)\n",
    "# >>> algoritmo_genetico_t(m3g,4,max,1000,200,0.75,0.1)\n",
    "# ([1, 1, 0, 1, 0, 0, 0, 0, 1, 1, 1, 0, 1, 0, 0, 1, 1, 0, 0, 0, 0, 0, 0, 0], 13449995)\n",
    "# >>> algoritmo_genetico_t(m3g,3,max,1000,100,0.75,0.1)\n",
    "# ([1, 1, 0, 0, 0, 1, 1, 0, 1, 1, 1, 0, 1, 1, 0, 1, 1, 0, 0, 0, 0, 0, 0, 0], 13412953)\n",
    "# >>> algoritmo_genetico_t(m3g,3,max,2000,100,0.75,0.1)\n",
    "# ([0, 1, 0, 1, 0, 1, 0, 0, 1, 1, 1, 0, 1, 1, 0, 1, 0, 0, 0, 0, 0, 0, 0, 0], 13366296)\n",
    "# >>> algoritmo_genetico_t(m3g,6,max,2000,100,0.75,0.1)\n",
    "# ([1, 1, 0, 1, 1, 1, 0, 0, 0, 1, 1, 0, 1, 0, 0, 1, 0, 0, 0, 0, 0, 1, 1, 1], 13549094)"
   ]
  },
  {
   "cell_type": "code",
   "execution_count": 27,
   "metadata": {},
   "outputs": [
    {
     "name": "stdout",
     "output_type": "stream",
     "text": [
      "El 5% (aproximadamente) no encuentra la solución óptima\n"
     ]
    }
   ],
   "source": [
    "m1g = ProblemaGeneticoMochila([0,1],decodifica_mochila,fun_mutar, fun_cruzar, fitness_mochila, 10, pesos1, valores1, 165)\n",
    "cont = 0\n",
    "for i in range (100):\n",
    "    if algoritmo_genetico(m1g,3,max,100,50,0.8,0.05)[1]<309:\n",
    "        cont += 1\n",
    "print(\"El {num}% (aproximadamente) no encuentra la solución óptima\".format(num=cont))\n"
   ]
  },
  {
   "cell_type": "code",
   "execution_count": 28,
   "metadata": {},
   "outputs": [
    {
     "name": "stdout",
     "output_type": "stream",
     "text": [
      "El 99.4% (aproximadamente) no encuentra la solución óptima, en la primera configuración\n",
      "El 97.2% (aproximadamente) no encuentra la solución óptima, en la segunda configuración\n"
     ]
    }
   ],
   "source": [
    "m2g = ProblemaGeneticoMochila([0,1],decodifica_mochila, fun_mutar, fun_cruzar, fitness_mochila,15,pesos2,valores2,750)\n",
    "cont = 0\n",
    "for i in range (1000):\n",
    "    if algoritmo_genetico(m2g,3,max,100,50,0.8,0.05)[1] < 1458: #1438\n",
    "        cont += 1\n",
    "print(\"El {num}% (aproximadamente) no encuentra la solución óptima, en la primera configuración\".format(num = cont/10))\n",
    "      \n",
    "cont = 0\n",
    "for i in range (1000):\n",
    "    if algoritmo_genetico(m2g,3,max,200,100,0.8,0.05)[1] < 1458:\n",
    "        cont += 1\n",
    "print(\"El {num}% (aproximadamente) no encuentra la solución óptima, en la segunda configuración\".format(num = cont/10))\n"
   ]
  },
  {
   "cell_type": "code",
   "execution_count": 20,
   "metadata": {},
   "outputs": [
    {
     "name": "stdout",
     "output_type": "stream",
     "text": [
      "El 95% (aproximadamente) no encuentra la solución óptima, en la primera configuración\n",
      "El 98% (aproximadamente) no encuentra la solución óptima, en la segunda configuración\n"
     ]
    }
   ],
   "source": [
    "m3g = ProblemaGeneticoMochila([0,1],decodifica_mochila,fun_mutar, fun_cruzar, fitness_mochila,24,pesos3,valores3,6404180)\n",
    "cont = 0\n",
    "for i in range (100):\n",
    "    if algoritmo_genetico(m3g,5,max,400,200,0.75,0.1)[1] < 13549094:  #13400000\n",
    "        cont += 1\n",
    "print(\"El {num}% (aproximadamente) no encuentra la solución óptima, en la primera configuración\".format(num = cont))\n",
    "      \n",
    "cont = 0\n",
    "for i in range (100):\n",
    "    if algoritmo_genetico(m3g,5,max,1000,200,0.8,0.05)[1] < 13549094:\n",
    "        cont += 1\n",
    "print(\"El {num}% (aproximadamente) no encuentra la solución óptima, en la segunda configuración\".format(num = cont))"
   ]
  },
  {
   "cell_type": "markdown",
   "metadata": {},
   "source": [
    "### OBSERVACIONES\n",
    "1. En el primer caso vemos que la solución óptima se encuentra en un 95% (aprox.) de los casos y esto no es raro pues la probabildad de cruce es alta 80% y la de mutación muy baja 5%. Esto es así, pues en principio las siguientes generaciones serán mejores que las anteriores y como el cruce es alto y la mutación es baja se favorece este hecho. \n",
    "2. Sin embargo, en los siguiente ejemplos vemos que casi el 100% de los casos no encuentra solución óptima (en el 99% y 98% aproximadamente en las respectivas configuraciones). ¿Esto a qué se debe? Este hecho no es malo, de hecho es normal. Lo que pasa en los algoritmos genéticos (sobre todo cuando la longitud de individuos y tamaño de la población son grandes) es que se genera un árbol de exploración muy muy grande y es muy difícil llegar a la solución exactamente óptima. En este tipo de algoritmos se obtienen muchas soluciones subóptimas, cerca de la óptima, pero sin llegar a ser esta. Esto lo hemos comprobado modificando \"ligeramente\" el valor de fitness máximo. Haciendo esto, hemos verificado que se obtiene un porcentaje de soluciones subóptimas altísimo: (por ejemplo en el caso 2 se obtiene pasando de 1458 a 1438 el 75% de casos verifican este fitness). Además, reduciendo un poco más esta función de fitness (de 1458 a 1410 por ejemplo) se obtiene el 100% de los casos que tienen en ese fitness!!!"
   ]
  },
  {
   "cell_type": "markdown",
   "metadata": {},
   "source": [
    "### Ejercicio 8\n",
    "Resolver mediante una configuración de un algoritmo genético el problema del cuadrado mágico que consiste en colocar en un cuadrado n × n los números naturales de 1 a n^2, \n",
    "de tal manera que las filas, las columnas y las diagonales principales sumen los mismo. \n",
    "Ejemplo: una solucion para n= 3\n",
    "    \n",
    "    4 3 8\n",
    "    9 5 1\n",
    "    2 7 6\n",
    "    \n",
    "- Dimension del cuadrado: N\n",
    "- Suma común: SUMA=(N·(N^2 + 1))/2\n",
    "    \n",
    "    Comenta el resultado y el rendimiento del algoritmo para distintos parámetros.\n",
    "    \n",
    "\n",
    "    \n",
    "    "
   ]
  },
  {
   "cell_type": "code",
   "execution_count": 11,
   "metadata": {},
   "outputs": [],
   "source": [
    "from itertools import permutations\n",
    "import math\n",
    "import random\n",
    "\n",
    "def poblacion_inicial_cm(problema_genetico, size):\n",
    "    l = []\n",
    "    for i in range(size):\n",
    "        l2 = list(permutations(range(1,problema_genetico.longitud_individuos+1)))\n",
    "        x = random.randint(0, math.factorial(problema_genetico.longitud_individuos) - 1)\n",
    "        l.append(l2[x])  \n",
    "    return l\n",
    "\n",
    "def cruza_padres_cm(problema_genetico, padres):\n",
    "    l = []\n",
    "    i = 0\n",
    "    while i < len(padres)/2:\n",
    "        u = problema_genetico.cruza(padres[2*i], padres[2*i+1])\n",
    "        l.append(u[0])\n",
    "        l.append(u[1])\n",
    "        i += 1\n",
    "    return l\n",
    "\n",
    "def seleccion_por_torneo_cm(problema_genetico, poblacion, n, k, opt):\n",
    "    \"\"\"Selección por torneo de n individuos de una población. Siendo k el nº de participantes\n",
    "        y opt la función max o min.\"\"\"\n",
    "    seleccionados = []\n",
    "    for i in range(n):\n",
    "        participantes = random.sample(poblacion,k)\n",
    "        seleccionado = opt(participantes, key=problema_genetico.fitness)\n",
    "        seleccionados.append(seleccionado)\n",
    "    return seleccionados  \n",
    "\n",
    "def muta_individuos_cm(problema_genetico, poblacion, prob):\n",
    "    for i in range(len(poblacion)):\n",
    "        poblacion[i]=problema_genetico.muta(poblacion[i],prob)\n",
    "    return poblacion\n",
    "\n",
    "def nueva_generacion_cm(problema_genetico, k,opt, poblacion, n_padres, n_directos, prob_mutar):\n",
    "    padres1 = seleccion_por_torneo_cm(problema_genetico, poblacion, n_directos, k,opt)\n",
    "    padres2 = seleccion_por_torneo_cm(problema_genetico, poblacion, n_padres , k, opt)\n",
    "    cruces =  cruza_padres_cm(problema_genetico,padres2)\n",
    "    generacion = padres1+cruces\n",
    "    resultado_mutaciones = muta_individuos_cm(problema_genetico, generacion, prob_mutar)\n",
    "    return resultado_mutaciones\n",
    "\n",
    "\n",
    "def algoritmo_genetico_cm(problema_genetico,k,opt,ngen,size,prop_cruces,prob_mutar):\n",
    "    poblacion= poblacion_inicial_cm(problema_genetico,size)\n",
    "    n_padres= round(size*prop_cruces)\n",
    "    n_padres= int (n_padres if n_padres%2==0 else n_padres-1)\n",
    "    n_directos = size-n_padres\n",
    "    for _ in range(ngen):\n",
    "        poblacion= nueva_generacion_cm(problema_genetico,k,opt,poblacion,n_padres, n_directos,prob_mutar)\n",
    "        \n",
    "    mejor_cr = opt(poblacion, key=problema_genetico.fitness)\n",
    "    mejor = problema_genetico.decodifica(mejor_cr)\n",
    "    return (mejor,problema_genetico.fitness(mejor_cr))\n",
    "\n"
   ]
  },
  {
   "cell_type": "code",
   "execution_count": 12,
   "metadata": {},
   "outputs": [],
   "source": [
    "class ProblemaGenetico(object):\n",
    "        def __init__(self, genes, fun_dec, fun_muta, fun_cruza, fun_fitness, longitud_individuos):\n",
    "            self.genes = genes\n",
    "            self.fun_dec = fun_dec\n",
    "            self.fun_cruza = fun_cruza\n",
    "            self.fun_muta = fun_muta\n",
    "            self.fun_fitness = fun_fitness\n",
    "            self.longitud_individuos = longitud_individuos\n",
    "            \"\"\"Constructor de la clase\"\"\"\n",
    "                \n",
    "        def decodifica(self, genotipo):\n",
    "            \"\"\"Devuelve el fenotipo a partir del genotipo\"\"\"\n",
    "            fenotipo = self.fun_dec(genotipo)\n",
    "            return fenotipo\n",
    "        def muta(self, cromosoma,prob):\n",
    "            \"\"\"Devuelve el cromosoma mutado\"\"\"   \n",
    "            mutante = self.fun_muta(cromosoma,prob)\n",
    "            return mutante\n",
    "        def cruza(self, cromosoma1, cromosoma2):         \n",
    "            \"\"\"Devuelve el cruce de un par de cromosomas\"\"\"\n",
    "            cruce = self.fun_cruza(cromosoma1,cromosoma2)\n",
    "            return cruce \n",
    "        def fitness(self, cromosoma):    \n",
    "            \"\"\"Función de valoración\"\"\"\n",
    "            valoracion = self.fun_fitness(cromosoma)\n",
    "            return valoracion"
   ]
  },
  {
   "cell_type": "code",
   "execution_count": 13,
   "metadata": {},
   "outputs": [],
   "source": [
    "def decodifica_cm(cromosoma):\n",
    "    return cromosoma\n",
    "\n",
    "#Implementado el algoritmo PMX\n",
    "def cruzar_cm1(cromosoma1, cromosoma2):\n",
    "    l1 = len(cromosoma1)\n",
    "    a = random.randint(0,l1-l1//2)\n",
    "    b = random.randint(a+1,l1-2)\n",
    "    la1 = list(cromosoma1[0:a])\n",
    "    la2 = list(cromosoma1[a:b+1])\n",
    "    la3 = list(cromosoma1[b+1:l1])\n",
    "    lb1 = list(cromosoma2[0:a])\n",
    "    lb2 = list(cromosoma2[a:b+1])\n",
    "    lb3 = list(cromosoma2[b+1:l1])\n",
    "    #Construir la1:\n",
    "    for i in range(a):\n",
    "        k=i\n",
    "        while(cromosoma2[k] in la2):\n",
    "            k=cromosoma1.index(cromosoma2[k])\n",
    "        la1[i]=cromosoma2[k]\n",
    "    #Construir la3:\n",
    "    for j in range(l1 - (b+1)):\n",
    "        k=j + b+1\n",
    "        while(cromosoma2[k] in la2):\n",
    "            k=cromosoma1.index(cromosoma2[k])\n",
    "        la3[j]=cromosoma2[k]\n",
    "        \n",
    "    cruce1=la1 + la2 + la3\n",
    "    #Construir lb1:\n",
    "    for i in range(a):\n",
    "        k=i\n",
    "        while(cromosoma1[k] in lb2):\n",
    "            k=cromosoma2.index(cromosoma1[k])\n",
    "        lb1[i]=cromosoma1[k]\n",
    "   \n",
    "    #Construir lb3:\n",
    "    for j in range(l1 - (b+1)):\n",
    "        k=j + b+1\n",
    "        while(cromosoma1[k] in lb2):\n",
    "            k=cromosoma2.index(cromosoma1[k])\n",
    "        lb3[j]=cromosoma1[k]\n",
    "    \n",
    "    cruce2=lb1 + lb2 + lb3\n",
    "    return [tuple(cruce1),tuple(cruce2)]\n",
    "\n",
    "#Implementado el método de inversión\n",
    "def mutar_cm(cromosoma,prob):\n",
    "    if prob > random.uniform(0,1):\n",
    "        l=len(cromosoma)\n",
    "        i=random.randint(0,l-2)\n",
    "        j=random.randint(i+1,l-1)\n",
    "        cromosoma=cromosoma[0:i]+tuple(reversed(cromosoma[i:j]))+cromosoma[j:l]\n",
    "    return cromosoma\n",
    "\n",
    "#Implementamos el algoritmo: cruce de orden\n",
    "def cruzar_cm2(cromosoma1, cromosoma2):\n",
    "    l1 = len(cromosoma1)\n",
    "    a = random.randint(0,l1-l1//2)\n",
    "    b = random.randint(a+1,l1-2)\n",
    "    listaIntc1=list(cromosoma1[a:b+1])\n",
    "    listaIntc2=list(cromosoma2[a:b+1])\n",
    "    cruce1=list(cromosoma1)\n",
    "    cruce2=list(cromosoma2)\n",
    "    ind1=ind2=b+1\n",
    "    for i in range (l1):\n",
    "        j=(i + b +1)%l1\n",
    "        if cromosoma2[j] not in listaIntc1:\n",
    "            cruce1[ind1]=cromosoma2[j]\n",
    "            ind1=(ind1+1)%l1\n",
    "        if cromosoma1[j] not in listaIntc2:\n",
    "            cruce2[ind2]=cromosoma1[j]\n",
    "            ind2=(ind2+1)%l1\n",
    "    return [tuple(cruce1),tuple(cruce2)]\n",
    "\n",
    "#Minimizar la máxima diferencia de alguna de las sumas con el valor N(N^2+1)/2 =>\n",
    "#El fitness es la máxima diferencia\n",
    "def fitness_cm(cromosoma):\n",
    "    maxdif=0\n",
    "    n=int (math.sqrt(len(cromosoma)))\n",
    "    sumaBuscada=n*(n**2+1)/2\n",
    "    suma=0\n",
    "    #Filas\n",
    "    for i in range(n):\n",
    "        suma=0\n",
    "        for k in range(n):\n",
    "            suma+=cromosoma[n*i + k]\n",
    "        maxdif=max(maxdif,abs(suma-sumaBuscada))\n",
    "        \n",
    "    #Columnas\n",
    "    for j in range(n):\n",
    "        suma=0\n",
    "        for k in range(n):\n",
    "            suma+=cromosoma[j + n*k]\n",
    "        maxdif=max(maxdif,abs(suma-sumaBuscada))\n",
    "    \n",
    "    #Diagonal superior\n",
    "    suma=0\n",
    "    for i in range(n):\n",
    "        suma+=cromosoma[i*(n+1)]\n",
    "    maxdif=max(maxdif,abs(suma-sumaBuscada))\n",
    "    \n",
    "    #Diagonal inferior\n",
    "    suma=0\n",
    "    for i in range(n):\n",
    "        suma+=cromosoma[(n-1)*(i+1)]\n",
    "    maxdif=max(maxdif,abs(suma-sumaBuscada))\n",
    "    return maxdif\n"
   ]
  },
  {
   "cell_type": "code",
   "execution_count": 14,
   "metadata": {},
   "outputs": [],
   "source": [
    "n=3"
   ]
  },
  {
   "cell_type": "code",
   "execution_count": 16,
   "metadata": {},
   "outputs": [
    {
     "name": "stdout",
     "output_type": "stream",
     "text": [
      "El 19% (aproximadamente) encuentra la solución óptima\n"
     ]
    }
   ],
   "source": [
    "#Utilizando PMX\n",
    "cuadrado_magico1 = ProblemaGenetico([x for x in range(1,n**2+1)], decodifica_cm, mutar_cm, cruzar_cm1, fitness_cm, n**2)\n",
    "cont = 0\n",
    "for i in range(100):\n",
    "    x = algoritmo_genetico_cm(cuadrado_magico1,5,min,100,50,0.7,0.1)[1]\n",
    "    if x == 0:\n",
    "        cont += 1\n",
    "print(\"El {num}% (aproximadamente) encuentra la solución óptima\".format(num=cont))"
   ]
  },
  {
   "cell_type": "code",
   "execution_count": 18,
   "metadata": {},
   "outputs": [
    {
     "name": "stdout",
     "output_type": "stream",
     "text": [
      "El 6% (aproximadamente) encuentra la solución óptima\n"
     ]
    }
   ],
   "source": [
    "#Utilizando cruce de orden\n",
    "cuadrado_magico1 = ProblemaGenetico([x for x in range(1,n**2+1)], decodifica_cm, mutar_cm, cruzar_cm2, fitness_cm, n**2)\n",
    "cont = 0\n",
    "for i in range(100):\n",
    "    x = algoritmo_genetico_cm(cuadrado_magico1,5,min,100,50,0.7,0.1)[1]\n",
    "    if x == 0:\n",
    "        cont += 1\n",
    "print(\"El {num}% (aproximadamente) encuentra la solución óptima\".format(num=cont))"
   ]
  },
  {
   "cell_type": "markdown",
   "metadata": {},
   "source": [
    "### OBSERVACIONES\n",
    "La representación del problema se basa en permutaciones de los n^2 números. Por lo tanto, los genes no son un conjunto de bits, si no un único natural comprendido entre 1 y n^2. En cuanto a los resultados obtenidos:\n",
    "En la primera resolución hemos utilizado el PMX y en la segunda el cruce de orden. Se observa que para este problema, el cruce PMX es más eficaz. Esto se puede deber a que, normalmente, el algoritmo PMX \"cambia menos\" los individuos de la siguiente generación.\n",
    "\n",
    "Vemos que los números han de seguir un patrón para poder obtener el resultado (todos los datos los exponemos para n=3):\n",
    "1. El 9 solo puede sumar 15 con 2 combinaciones {1,5} y {2,4}. Esto significa que el 9 solo puede ocupar las casillas que intervengan en dos sumas (solo hay cuatro posibilidades, que serían ARRIBA,ABAJO,DERECHA,IZQUIERDA desde el medio (evitando las esquinas)).\n",
    "2. Al 7 le ocurre lo mismo. Esto significa que ya están asignadas esas cuatro posiciones, pues al 1 y al 3 les sucede lo mismo: {9,1} enfrentados y {7,3}\n",
    "3. El 5 ha de ocupar la posición central, pues es el único que aparece en cuatro posibles combinaciones.\n",
    "4. Viendo los números anteriores, ya tendríamos las posibles casillas para el resto.\n",
    "\n",
    "Por lo tanto, si obtenemos algunos de estos patrones, es más probable que el algoritmo de cruce de PMX los desordene menos. De esta forma, se consigue que si obtenemos una solución o alguno de los patrones anteriores (que se acercan a conseguir una solución) se desordenen menos en la siguiente generación y tengamos más posibilidad de llegar a una solución en esta."
   ]
  },
  {
   "cell_type": "markdown",
   "metadata": {},
   "source": [
    "### Ejercicio 9\n",
    "Se quiere organizar una **jornada de la informática** en la Facultad. \n",
    "El Vicedecano necesita organizar el horario y la asignación de profesores para n actividades temáticas, a_1, . . . , a_n.  Dispone de m profesores p_1, . . . , p_m con distintos niveles de cualificación. \n",
    "No todos los profesores tienen los conocimientos para encargarse de todas las actividades. \n",
    "El mismo profesor pi puede encargarse de distintas actividades (que se le remunerarán convenientemente) pero no podemos asignar al mismo profesor dos actividades que se impartan simultáneamente. \n",
    "Cada actividad puede durar un tiempo diferente dependiendo del profesor que la organice. Si un profesor p_i puede realizar la actividad a_j, entonces denotaremos por t_ij el tiempo que pi tardará en realizar la actividad a_j. \n",
    "Existen dependencias entre los contenidos de las actividades lo que obliga a incluir algunas restricciones temporales, es decir, algunas actividades hay que realizarlas cuando otras ya hayan terminado. Esto es, tenemos un conjunto de restricciones que indican que ai se debe realizar antes de a_j. Por ejemplo, El taller de iniciación a Scratch se debe realizar antes que el laboratorio de desarrollo de videojuegos con Scratch.   \n",
    "Se pide dar una solución al problema de decidir, para cada actividad, qué profesor la realizará y en qué momento se debe ofertar la actividad para que, al ﬁnal de la jornada, se puedan realizar todas las actividades con cuidado de cumplir los prerrequisitos (restricciones temporales) y el conjunto de actividades se realice en el menor tiempo posible."
   ]
  },
  {
   "cell_type": "code",
   "execution_count": 23,
   "metadata": {},
   "outputs": [],
   "source": [
    "import math\n",
    "import random\n",
    "def poblacion_inicial_jI(problema_genetico, size):\n",
    "    l = []\n",
    "    for i in range(size):\n",
    "        ind = []\n",
    "        for i in range(problema_genetico.longitud_individuos):\n",
    "            ind.append(random.choice(problema_genetico.genes))\n",
    "        l.append(tuple(ind)) \n",
    "    return l\n",
    "\n",
    "def cruza_padres_jI(problema_genetico,padres):\n",
    "    l = []\n",
    "    i = 0\n",
    "    while i < len(padres)/2:\n",
    "        u = problema_genetico.cruza(padres[2*i], padres[2*i+1])\n",
    "        l.append(u[0])\n",
    "        l.append(u[1])\n",
    "        i += 1\n",
    "    return l\n",
    "\n",
    "def seleccion_por_torneo_jI(problema_genetico, poblacion, n, k, opt):\n",
    "    \"\"\"Selección por torneo de n individuos de una población. Siendo k el nº de participantes\n",
    "        y opt la función max o min.\"\"\"\n",
    "    seleccionados = []\n",
    "    for i in range(n):\n",
    "        participantes = random.sample(poblacion,k)\n",
    "        seleccionado = opt(participantes, key=problema_genetico.fitness)\n",
    "        seleccionados.append(seleccionado)\n",
    "    return seleccionados  \n",
    "\n",
    "def muta_individuos_jI(problema_genetico, poblacion, prob_mutar1,prob_mutar2,duracionMax,m):\n",
    "    for i in range(len(poblacion)):\n",
    "        poblacion[i]=mutar_jI(poblacion[i],prob_mutar1,prob_mutar2,duracionMax,m)\n",
    "    return poblacion\n",
    "\n",
    "def nueva_generacion_jI(problema_genetico, k,opt, poblacion, n_padres, n_directos, prob_mutar1,prob_mutar2,duracionMax,m):\n",
    "    padres1 = seleccion_por_torneo_jI(problema_genetico, poblacion, n_directos, k,opt)\n",
    "    padres2 = seleccion_por_torneo_jI(problema_genetico, poblacion, n_padres , k, opt)\n",
    "    cruces =  cruza_padres_jI(problema_genetico,padres2)\n",
    "    generacion = padres1+cruces\n",
    "    resultado_mutaciones = muta_individuos_jI(problema_genetico, generacion, prob_mutar1,prob_mutar2,duracionMax,m)\n",
    "    return resultado_mutaciones\n",
    "\n",
    "\n",
    "def algoritmo_genetico(problema_genetico,k,opt,ngen,size,prop_cruces,prob_mutar1,prob_mutar2,duracionMax,m):\n",
    "    poblacion= poblacion_inicial_jI(problema_genetico,size)\n",
    "    n_padres=round(size*prop_cruces)\n",
    "    n_padres= int (n_padres if n_padres%2==0 else n_padres-1)\n",
    "    n_directos = size-n_padres\n",
    "    for _ in range(ngen):\n",
    "        poblacion= nueva_generacion_jI(problema_genetico,k,opt,poblacion,n_padres, n_directos,prob_mutar1,prob_mutar2,duracionMax,m)\n",
    "    mejor_cr= opt(poblacion, key=problema_genetico.fitness)\n",
    "    mejor=problema_genetico.decodifica(mejor_cr)\n",
    "    return (mejor,problema_genetico.fitness(mejor_cr))\n"
   ]
  },
  {
   "cell_type": "code",
   "execution_count": 24,
   "metadata": {},
   "outputs": [],
   "source": [
    "n=4\n",
    "m=4\n",
    "tiempos=[[60,0,90,0],[0,70,0,80],[0,0,0,0],[0,0,0,0]]\n",
    "#Lista de restricciones temporales\n",
    "restricciones=[[],[],[],[]]\n",
    "\n",
    "def decodifica_jI(cromosoma):\n",
    "    c=[]\n",
    "    l=len(cromosoma)\n",
    "    for i in range(l):\n",
    "        a=cromosoma[i][0]\n",
    "        b=cromosoma[i][1]*10\n",
    "        c.append([a,b])\n",
    "    return tuple(c)\n",
    "\n",
    "#Implementado el algoritmo: cruce de dos puntos\n",
    "def cruzar_jI(cromosoma1, cromosoma2):\n",
    "    n= len(cromosoma1)\n",
    "    a = random.randint(0,n//2)\n",
    "    b=random.randint(a+1,n-1)\n",
    "    cruce1=cromosoma1[0:a] + cromosoma2[a:b+1] + cromosoma1[b+1:n]\n",
    "    cruce2=cromosoma2[0:a] + cromosoma1[a:b+1] + cromosoma2[b+1:n]\n",
    "    return [tuple(cruce1),tuple(cruce2)]\n",
    "\n",
    "#Implementado el método de inversión\n",
    "def mutar_jI(cromosoma,prob_profesor,prob_tiempo,duracionMax,m):\n",
    "    n=len(cromosoma)\n",
    "    c=list(cromosoma)\n",
    "    if prob_profesor > random.uniform(0,1):\n",
    "        for k in range(2):\n",
    "            i=random.randint(0,n-1)\n",
    "            prof=random.randint(0,m-1)\n",
    "            c[i][0]=prof\n",
    "    if prob_tiempo>random.uniform(0,1):\n",
    "        for k in range(2):\n",
    "            j=random.randint(0,n-1)\n",
    "            tiempo=random.randint(0,duracionMax-1)\n",
    "            c[j][1]=tiempo\n",
    "    return tuple(c)\n",
    "\n",
    "def tiempoMax(cromosoma,tiempos):\n",
    "    maximo=0\n",
    "    for i in range(len(cromosoma)):\n",
    "        maximo=max(cromosoma[i][1] + tiempos[cromosoma[i][0]][i],maximo)\n",
    "    return maximo\n",
    "\n",
    "def numRestriccionTemporales(cromosoma,tiempos,restricciones):\n",
    "    cont=0\n",
    "    n=len(cromosoma)\n",
    "    for i in range(n):\n",
    "        for j in range(len(restricciones[i])):\n",
    "            if cromosoma[j][1] + tiempos[cromosoma[j][0]][j]>cromosoma[i][1]:\n",
    "                cont+=1\n",
    "    return cont\n",
    "\n",
    "def numRestriccionProfesores(cromosoma,tiempos):\n",
    "    cont=0\n",
    "    m=len(tiempos)\n",
    "    n=len(cromosoma)\n",
    "    intervalos = []\n",
    "    for i in range(m):\n",
    "        intervalos.append([])\n",
    "    for i in range(n):\n",
    "        profesor=cromosoma[i][0]\n",
    "        if tiempos[profesor][i]==0:\n",
    "            cont+=1\n",
    "        else:\n",
    "            lInterv=intervalos[profesor]\n",
    "            tInit=cromosoma[i][1]\n",
    "            tFin=tInit+tiempos[profesor][i]\n",
    "            lInterv.append((tInit,tFin))\n",
    "            for j in range(len(lInterv)):\n",
    "                if tInit>lInterv[j][0] and tInit<lInterv[j][1]:\n",
    "                    cont+=1\n",
    "                elif tFin>lInterv[j][0] and tFin<lInterv[j][1]:\n",
    "                    cont+=1\n",
    "                \n",
    "    return cont\n",
    "    \n",
    "def fitness_jI(cromosoma):\n",
    "    cromosomaDecod=decodifica_jI(cromosoma)\n",
    "    tM=tiempoMax(cromosomaDecod,tiempos)\n",
    "    r1=numRestriccionTemporales(cromosoma,tiempos,restricciones)\n",
    "    r2=numRestriccionProfesores(cromosoma,tiempos)\n",
    "    return tM + 220*r1 + 220*r2\n"
   ]
  },
  {
   "cell_type": "code",
   "execution_count": 25,
   "metadata": {},
   "outputs": [],
   "source": [
    "def precalculo(t):\n",
    "    tot=0\n",
    "    for j in range(len(t[0])):\n",
    "        maximo=0\n",
    "        for i in range(len(t)):\n",
    "            maximo=max(maximo,t[i][j])\n",
    "        if maximo==0:\n",
    "            return -1\n",
    "        tot+=maximo\n",
    "    return tot"
   ]
  },
  {
   "cell_type": "code",
   "execution_count": 26,
   "metadata": {},
   "outputs": [
    {
     "name": "stdout",
     "output_type": "stream",
     "text": [
      "2\n"
     ]
    }
   ],
   "source": [
    "#Dividimos /10 para obtener tiempos de inicio multiplos de 10 minutos. En el decodifica ya se multiplica de nuevo *10\n",
    "duracionMax=precalculo(tiempos)//10\n",
    "if duracionMax<0:\n",
    "    print(\"El caso de prueba no tiene solución\")\n",
    "else:\n",
    "    cont=0\n",
    "    genes=[[x,y] for x in range(len(tiempos)) for y in range (duracionMax+1)] #dupla:(profesor,tiempo_inicio)\n",
    "    jornadaInformatica=ProblemaGenetico(genes,decodifica_jI,mutar_jI, cruzar_jI, fitness_jI, n)\n",
    "    for i in range(10):\n",
    "        sol=algoritmo_genetico(jornadaInformatica,20,min,1000,100,0.7,0.4,0.3,duracionMax,m)\n",
    "        if(sol[1]<600):\n",
    "            cont+=1\n",
    "    print(cont)"
   ]
  },
  {
   "cell_type": "code",
   "execution_count": 27,
   "metadata": {},
   "outputs": [
    {
     "name": "stdout",
     "output_type": "stream",
     "text": [
      "3\n"
     ]
    }
   ],
   "source": [
    "for i in range(10):\n",
    "    sol=algoritmo_genetico(jornadaInformatica,50,min,500,250,0.7,0.4,0.3,duracionMax,m)\n",
    "    if(sol[1]<600):\n",
    "        cont+=1\n",
    "print(cont)"
   ]
  },
  {
   "cell_type": "markdown",
   "metadata": {},
   "source": [
    "#### RESOLUCION \n",
    "Hemos introducido una restricción a nuestro problema: las activividades comienzan en tiempos múltiplo de 10.\n",
    "1. Los genes son una dupla (p_i,t_i) donde p_i es el profesor que realiza la actividad i y t_i es el tiempo de inicio de la actividad i. Por lo tanto, un cromosoma está compuesto por n genes, siendo n el número de actividades.\n",
    "2. Fitness: Calculamos el tiempo máximo que va a ser necesario para realizar las n actividades según esten organizadas en el cromosoma. A dicho tiempo añadimos las dos penalizaciones posibles: actividades impartidas por profesores que las desconocen; y actividades que no verifican el orden impuesto en las precondiciones. Para que tengan efecto en el fitness, las multiplicamos por un valor de penalización, que es variable en función de los datos del enunciado. Por lo tanto, se pretende minimizar el fitness para encontrar el mejor individuo posible.\n",
    "3. Cruce: Cruce de dos puntos\n",
    "4. Mutar: Tenemos dos probabilidades de mutar, una para los profesores y otra para los tiempos. Es posible mutar un profesor de una actividad y un tiempo de inicio de otra diferente.\n",
    "5. Decodificar: Los tiempos de inicio son múltiplos de 10 (en teoría minutos). Por ello, en el gen t_i en realidad es t_i%10, y es en el decodifica cuando convertimos a los tiempos reales.\n",
    "6. Selección y nueva generación: mantenemos el mismo código que en el ejercicio 8 y 7"
   ]
  },
  {
   "cell_type": "markdown",
   "metadata": {},
   "source": [
    "### OBSERVACIONES\n",
    "El algoritmo genético es útil si buscamos obtener rápidas soluciones, que no sean óptimas pero que no esten muy lejos, es decir, que sean subóptimas. Este hecho se pone de manifiesto en este problema, pues el objetivo es obtener un horario lo más ajustado posible, teniendo en cuenta de que en la realidad, perder 3 minutos no es realmente importante, si no cumplir las restricciones. De vez en cuando el algoritmo ofrece una solución que no verifica todas las restricciones, pero sí la mayoría de ellas.Por ello sigue siendo eficaz, ya que el usuario puede modificar a mano la solución ya obtenida para verificar todas las condiciones.\n",
    "\n",
    "En las exploraciones que hemos realizado, observamos que a partir de 500 generaciones, el algoritmo empieza a dar soluciones subóptimas aceptables. Antes de las 500 muestra resultados que difieren mucho de nuestros intereses. Esto no ha de extrañarnos, pues en los algoritmos genéticos, se trata de descubrir la configuración que nos aproxime a una zona próxima a la óptima. En términos de gráficos, en esta zona el algoritmo genético no experimenta grandes mejoras aun aumentando considerablemente el número de individuos o el número de generaciones."
   ]
  },
  {
   "cell_type": "code",
   "execution_count": null,
   "metadata": {},
   "outputs": [],
   "source": []
  }
 ],
 "metadata": {
  "kernelspec": {
   "display_name": "Python 3",
   "language": "python",
   "name": "python3"
  },
  "language_info": {
   "codemirror_mode": {
    "name": "ipython",
    "version": 3
   },
   "file_extension": ".py",
   "mimetype": "text/x-python",
   "name": "python",
   "nbconvert_exporter": "python",
   "pygments_lexer": "ipython3",
   "version": "3.8.3"
  }
 },
 "nbformat": 4,
 "nbformat_minor": 2
}
